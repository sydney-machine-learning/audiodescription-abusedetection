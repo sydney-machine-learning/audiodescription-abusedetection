{
 "cells": [
  {
   "cell_type": "code",
   "execution_count": 1,
   "id": "599a1e28",
   "metadata": {},
   "outputs": [
    {
     "name": "stderr",
     "output_type": "stream",
     "text": [
      "INFO - 2025-06-17 20:05:10,937 - PyTorch version 2.7.1 available.\n",
      "[nltk_data] Downloading package stopwords to\n",
      "[nltk_data]     /home/eye4got/nltk_data...\n",
      "[nltk_data]   Package stopwords is already up-to-date!\n"
     ]
    }
   ],
   "source": [
    "import logging\n",
    "logging.basicConfig(level=logging.INFO, format='%(levelname)s - %(asctime)s - %(message)s')\n",
    "\n",
    "import pandas as pd\n",
    "import numpy as np\n",
    "\n",
    "from evaluate import load\n",
    "\n",
    "import os\n",
    "\n",
    "diarization_model = 'pyannote/speaker-diarization-3.1' # 'BUT-FIT/DiCoW_v2'\n",
    "\n",
    "embedding_model = \"pyannote/embedding\" # speechbrain/spkrec-ecapa-voxceleb\n",
    "\n",
    "import torch\n",
    "device = torch.device(\"cuda\" if torch.cuda.is_available() else \"cpu\")\n",
    "\n",
    "from IPython.display import clear_output\n",
    "\n",
    "use_vad = True\n",
    "narr_cosine_sim_lim = 0.14\n",
    "diag_cosine_sim_lim = 0.3\n",
    "\n",
    "whisper_model = 'turbo'\n",
    "silero_threshold = 0.5\n",
    "\n",
    "whisper_config = {\n",
    "    'beam_size': 7,\n",
    "    'no_speech_threshold': 0.1,\n",
    "    'condition_on_previous_text': False\n",
    "}\n",
    "\n",
    "import data_extraction as da\n",
    "import stt\n",
    "\n",
    "import warnings\n",
    "warnings.filterwarnings(\"ignore\")\n",
    "\n",
    "logging.getLogger(\"speechbrain\").setLevel(logging.WARNING)\n",
    "logging.getLogger(\"pyannote\").setLevel(logging.WARNING)\n",
    "\n",
    "# TODO: Try use DiCoW to improve pyannote whisper combination https://github.com/BUTSpeechFIT/DiCoW/blob/c0e86b9ac529c086aa2197b95abf04f8fabb4fd7/app.py"
   ]
  },
  {
   "cell_type": "code",
   "execution_count": 2,
   "id": "3786e9ef",
   "metadata": {},
   "outputs": [],
   "source": [
    "films_list_df = da.get_or_create_subtitles_data(os.path.join(da.sub_dir, 'movie_index.parquet'), da.sub_dir)\n",
    "\n",
    "# TODO: add download scripts for transcript downloads\n",
    "\n",
    "# zenodo_get.download(\n",
    "#     record_or_doi=4881008,\n",
    "#     output_dir=os.path.join('data')\n",
    "# )\n",
    "\n",
    "# Unzip zip files"
   ]
  },
  {
   "cell_type": "code",
   "execution_count": 3,
   "id": "dff1f468",
   "metadata": {},
   "outputs": [],
   "source": [
    "credits_df = da.get_credits_timestamps()"
   ]
  },
  {
   "cell_type": "code",
   "execution_count": 4,
   "id": "669822e3",
   "metadata": {},
   "outputs": [],
   "source": [
    "with open(os.path.join(da.transcription_dir, 'manual', 'Annie Hall.txt')) as fileobj:\n",
    "    raw_annie_hall_man_txt = fileobj.read()\n",
    "annie_hall_man_txt = raw_annie_hall_man_txt.replace('\\n', ' ')\n",
    "\n",
    "def calc_cer_wer(movie_name: str, ref_txt: str):\n",
    "    trans_df = pd.read_parquet(os.path.join(da.transcription_dir, da.transcript_df_fp.format(movie_name=movie_name)))\n",
    "    trans_df = trans_df[trans_df['text'].ne(' Thank you.')]['text']\n",
    "    trans_txt = ''.join(trans_df.str.replace('[\\.,\"\\?]', '', regex=True)).lower().replace('-', ' ')\n",
    "    \n",
    "    cer, wer = load(\"cer\"), load(\"wer\")\n",
    "    cer_score = cer.compute(predictions=[trans_txt], references=[ref_txt])\n",
    "    wer_score = wer.compute(predictions=[trans_txt], references=[ref_txt])\n",
    "    \n",
    "    return cer_score, wer_score"
   ]
  },
  {
   "cell_type": "code",
   "execution_count": 11,
   "id": "d230bfec",
   "metadata": {},
   "outputs": [],
   "source": [
    "config_list = []\n",
    "for silero_threshold in [0.5]: # (0.4, 0.45, 0.5):\n",
    "    for whisper_model in ['turbo']: # , 'large'\n",
    "        for cosine_sim_lim in [0.14]: # np.arange(0.4, 1.2, 0.2): # 0.15, 0.2, \n",
    "            for beam_size in [7]:\n",
    "                for speech_cond in [True, False]:\n",
    "                    for no_speech_threshold in [0.1]: # , 0.2\n",
    "                        for min_seg_sec in [0]: #np.arange(0, 0.6, 0.1):\n",
    "                            config = {\n",
    "                                'use_vad': use_vad,\n",
    "                                'silero_threshold': silero_threshold,\n",
    "                                'whisper_model': whisper_model,\n",
    "                                'cosine_sim_lim': cosine_sim_lim,\n",
    "                                'beam_size': beam_size,\n",
    "                                'no_speech_threshold': no_speech_threshold,\n",
    "                                'condition_on_previous_text': speech_cond,\n",
    "                                'min_seg_sec': min_seg_sec\n",
    "                            }\n",
    "                            \n",
    "                            config_list.append(config)"
   ]
  },
  {
   "cell_type": "code",
   "execution_count": 13,
   "id": "542a610e",
   "metadata": {},
   "outputs": [
    {
     "name": "stderr",
     "output_type": "stream",
     "text": [
      "INFO - 2025-06-17 20:24:40,448 - Applying Silero VAD to Annie Hall\n",
      "INFO - 2025-06-17 20:25:22,117 - Slicing up audio from Annie Hall to speech only\n",
      "INFO - 2025-06-17 20:25:26,252 - Started pyannote pipeline for Annie Hall\n",
      "INFO - 2025-06-17 20:33:06,623 - Lightning automatically upgraded your loaded checkpoint from v1.2.7 to v2.5.0.post0. To apply the upgrade to your files permanently, run `python -m pytorch_lightning.utilities.upgrade_checkpoint ../../.cache/torch/pyannote/models--pyannote--embedding/snapshots/4db4899737a38b2d618bbd74350915aa10293cb2/pytorch_model.bin`\n"
     ]
    },
    {
     "name": "stdout",
     "output_type": "stream",
     "text": [
      "Model was trained with pyannote.audio 0.0.1, yours is 3.3.2. Bad things might happen unless you revert pyannote.audio to 0.x.\n",
      "Model was trained with torch 1.8.1+cu102, yours is 2.7.1+cu126. Bad things might happen unless you revert torch to 1.x.\n"
     ]
    }
   ],
   "source": [
    "movie_name = 'Annie Hall'\n",
    "mp3_filename = 'Annie Hall.mp3'\n",
    "\n",
    "vad_df_path = os.path.join(da.voice_activity_dir, f'{movie_name}-vad.parquet')\n",
    "seg_df_path = os.path.join(da.diarization_dir, f'{movie_name}-diarization.parquet')\n",
    "curr_transcript_fp = os.path.join(da.transcription_dir, da.transcript_df_fp.format(movie_name=movie_name))\n",
    "wav_filepath = os.path.join(da.trans_mp3_dir, f'{movie_name}_speech_only.wav')\n",
    "\n",
    "# Perform initial calculations which aren't impacted by config parameter sweeps\n",
    "stt.apply_silero_vad_to_wav(mp3_filename, wav_filepath, vad_df_path, silero_threshold=silero_threshold, credits_df=credits_df)\n",
    "stt.apply_diarization(movie_name, wav_filepath, diarization_model, seg_df_path, vad_df_path, device)\n",
    "stt.add_pyannote_cosine_sim(seg_df_path, wav_filepath, min_seg_sec=0, device=device)"
   ]
  },
  {
   "cell_type": "code",
   "execution_count": 14,
   "id": "60546f96",
   "metadata": {},
   "outputs": [
    {
     "name": "stderr",
     "output_type": "stream",
     "text": [
      "INFO - 2025-06-17 20:33:21,996 - NEW CONFIG RUN: \t0 / 2\n",
      "INFO - 2025-06-17 20:33:34,615 - Segment: 1 / 248\n",
      "INFO - 2025-06-17 20:34:05,664 - Segment: 51 / 248\n",
      "INFO - 2025-06-17 20:34:35,852 - Segment: 101 / 248\n",
      "INFO - 2025-06-17 20:35:03,173 - Segment: 151 / 248\n",
      "INFO - 2025-06-17 20:35:35,840 - Segment: 201 / 248\n",
      "INFO - 2025-06-17 20:36:11,706 - NEW CONFIG RUN: \t1 / 2\n"
     ]
    },
    {
     "name": "stdout",
     "output_type": "stream",
     "text": [
      "{'cer': 0.16, 'wer': 0.21657142857142858}\n"
     ]
    },
    {
     "name": "stderr",
     "output_type": "stream",
     "text": [
      "INFO - 2025-06-17 20:36:23,398 - Segment: 1 / 248\n",
      "INFO - 2025-06-17 20:37:16,218 - Segment: 51 / 248\n",
      "INFO - 2025-06-17 20:40:08,283 - Segment: 101 / 248\n",
      "INFO - 2025-06-17 20:40:34,215 - Segment: 151 / 248\n",
      "INFO - 2025-06-17 20:41:02,713 - Segment: 201 / 248\n"
     ]
    },
    {
     "name": "stdout",
     "output_type": "stream",
     "text": [
      "{'cer': 0.16, 'wer': 0.21657142857142858}\n"
     ]
    }
   ],
   "source": [
    "results = []\n",
    "\n",
    "for ii, config in enumerate(config_list):\n",
    "    logging.info(f'NEW CONFIG RUN: \\t{ii} / {len(config_list)}')\n",
    "    # da.wipe_movie_files(movie_name)\n",
    "    \n",
    "    use_vad = config['use_vad']\n",
    "    silero_threshold = config['silero_threshold']\n",
    "    whisper_model = config['whisper_model']\n",
    "    cosine_sim_lim = config['cosine_sim_lim']\n",
    "    whisper_config['beam_size'] = config['beam_size']\n",
    "    whisper_config['no_speech_threshold'] = config['no_speech_threshold']\n",
    "    whisper_config['condition_on_previous_text'] = config['condition_on_previous_text']\n",
    "    min_seg_sec = config['min_seg_sec']\n",
    "    \n",
    "    # stt.apply_pyannote_vad_to_wav(mp3_filename, wav_filepath, vad_df_path, device, credits_df)\n",
    "    # stt.apply_silero_vad_to_wav(mp3_filename, wav_filepath, vad_df_path, silero_threshold=silero_threshold, credits_df=credits_df)\n",
    "    # stt.apply_diarization(movie_name, wav_filepath, diarization_model, seg_df_path, device)\n",
    "    # stt.add_pyannote_cosine_sim(seg_df_path, wav_filepath, min_seg_sec=min_seg_sec, device=device)\n",
    "    stt.transcribe_segments(curr_transcript_fp, seg_df_path, wav_filepath, whisper_model, whisper_config, narr_cosine_sim_lim, device)\n",
    "    \n",
    "    cer, wer = calc_cer_wer(movie_name, annie_hall_man_txt)\n",
    "    results.append({'cer': cer, 'wer': wer})\n",
    "    print(results[-1])"
   ]
  },
  {
   "cell_type": "code",
   "execution_count": null,
   "id": "5e7d93ca",
   "metadata": {},
   "outputs": [
    {
     "name": "stdout",
     "output_type": "stream",
     "text": [
      "in a logo the capital letters \u001b[1m\u001b[31mu and a\u001b[0m|\u001b[1m\u001b[33myou and\u001b[0m unite into a single shape united artists words appear annie hall a jack rollins charles h \u001b[1m\u001b[31mjoffe production\u001b[0m|\u001b[1m\u001b[33mjaffe productions\u001b[0m copyright united artists corporation 1977 edited by ralph rosenblum art director mel bourne costume designer ruth morley director of photography gordon willis written by woody allen and marshall brickman produced by charles h \u001b[1m\u001b[31mjoffe\u001b[0m|\u001b[1m\u001b[33mjaffe\u001b[0m directed by woody allen a bespectacled man in a tweed jacket speaks directly to us young \u001b[1m\u001b[31malvy\u001b[0m|\u001b[1m\u001b[33malvi\u001b[0m sits next to his mother \u001b[1m\u001b[31mnodding his head\u001b[0m|\u001b[1m\u001b[33mwhy are you depressed harvey\u001b[0m a modest two \u001b[1m\u001b[31mstorey\u001b[0m|\u001b[1m\u001b[33mstory\u001b[0m house a snack bar on the boardwalk bumper cars in a classroom a series of teachers scrawl on the blackboard and scowl at the students young \u001b[1m\u001b[31malvy\u001b[0m|\u001b[1m\u001b[33malvie\u001b[0m slaps his forehead he goes over to the girl at the next desk and kisses her wiping off her face grown up \u001b[1m\u001b[31malvy\u001b[0m|\u001b[1m\u001b[33malbie\u001b[0m takes his seat each kid stands up on a tv alvy on the dick cavett show in his childhood home his mother peels carrots on a sidewalk \u001b[1m\u001b[31malvy\u001b[0m|\u001b[1m\u001b[33malfie\u001b[0m stands on \u001b[1m\u001b[31ma\u001b[0m|\u001b[1m\u001b[33mthe\u001b[0m sidewalk in front of a cinema a gap toothed man in a leather jacket walks past \u001b[1m\u001b[31malvy\u001b[0m|\u001b[1m\u001b[33malvey\u001b[0m then stops turns back and approaches him \u001b[1m\u001b[31malvy\u001b[0m|\u001b[1m\u001b[33malfie\u001b[0m points at himself and shakes his head the man continues to stare at him \u001b[1m\u001b[31malvy nods\u001b[0m|\u001b[1m\u001b[33mcopy knots\u001b[0m his head \u001b[1m\u001b[31mthe man smiles they\u001b[0m|\u001b[1m\u001b[33mokay\u001b[0m shake hands motioning another guy to come over \u001b[1m\u001b[31malvy\u001b[0m|\u001b[1m\u001b[33malfie\u001b[0m takes out a pen \u001b[1m\u001b[31malvy writes\u001b[0m|\u001b[1m\u001b[33mcopywrites\u001b[0m something on a scrap of paper and hands it back \u001b[1m\u001b[31malvy\u001b[0m|\u001b[1m\u001b[33malvi\u001b[0m breaks away from the two guys and heads for an approaching taxi cab into the \u001b[1m\u001b[31mcinema\u001b[0m|\u001b[1m\u001b[33msenate\u001b[0m in a long line \u001b[1m\u001b[31min\u001b[0m|\u001b[1m\u001b[33mat\u001b[0m another cinema the man behind \u001b[1m\u001b[32mthem\u001b[0m speaks \u001b[1m\u001b[31malvy\u001b[0m|\u001b[1m\u001b[33mi'll be\u001b[0m sighs \u001b[1m\u001b[31mannie\u001b[0m|\u001b[1m\u001b[33mand he\u001b[0m takes out a newspaper \u001b[1m\u001b[31malvy\u001b[0m|\u001b[1m\u001b[33malbee's\u001b[0m mouth opened wide \u001b[1m\u001b[31malvy\u001b[0m|\u001b[1m\u001b[33mnow he\u001b[0m points to the guy behind him \u001b[1m\u001b[32mit's a worm!\u001b[0m the guy in front of them turns around \u001b[1m\u001b[31mto us joining in alvy\u001b[0m|\u001b[1m\u001b[33malbie\u001b[0m steps across the theater lobby \u001b[1m\u001b[31mthe movie starts the sorrow and the pity\u001b[0m in a bedroom reading a paperback \u001b[1m\u001b[32mbecause it's supposed to\u001b[0m he crawls across the bed towards her a woman with a clipboard wears a button that says \u001b[1m\u001b[31madlai alvy\u001b[0m|\u001b[1m\u001b[33madelaide albie\u001b[0m scowls and sticks out his tongue \u001b[1m\u001b[31mhe adjusts his tie he walks toward the stage allison watches in bed\u001b[0m|\u001b[1m\u001b[33malison watson\u001b[0m standing \u001b[1m\u001b[31mup to us at a beach house lobsters crawl on the floor\u001b[0m|\u001b[1m\u001b[33mon\u001b[0m in his face annie wielding a lobster corners him against the refrigerator he runs to get a broom \u001b[1m\u001b[31mthe broom hits the dishrack\u001b[0m as annie \u001b[1m\u001b[31mstays\u001b[0m|\u001b[1m\u001b[33mstands\u001b[0m with \u001b[1m\u001b[31ma camera\u001b[0m|\u001b[1m\u001b[33mher\u001b[0m he holds up the lobster \u001b[1m\u001b[31mon the beach\u001b[0m long haired with a scruffy beard present day annie and \u001b[1m\u001b[31malvy\u001b[0m|\u001b[1m\u001b[33malvie\u001b[0m watch them \u001b[1m\u001b[31mback at the beach\u001b[0m in an apartment \u001b[1m\u001b[31malvy\u001b[0m|\u001b[1m\u001b[33malfie\u001b[0m sits by himself in a bedroom he pulls her \u001b[1m\u001b[31mon\u001b[0m|\u001b[1m\u001b[33monto\u001b[0m the bed with \u001b[1m\u001b[31mhim pulling again at\u001b[0m her she goes out later in bed in a locker room carrying tennis rackets on an indoor tennis court two women wait \u001b[1m\u001b[31malvy\u001b[0m|\u001b[1m\u001b[33malvie\u001b[0m and rob join them annie and rob cross to the far side of the net janet backhand \u001b[1m\u001b[31mrob\u001b[0m|\u001b[1m\u001b[33mgod\u001b[0m forehand alvy forehand \u001b[1m\u001b[31mannie\u001b[0m|\u001b[1m\u001b[33many\u001b[0m backhand later alvy packs his gym bag annie wearing a tie and black vest annie smiles at him she backs toward the door she starts for the door again in a beetle convertible \u001b[1m\u001b[31mdodging an oncoming pickup as a big truck cuts in front of them\u001b[0m weaving sideways the car turns onto a quiet side street angling into it they get out they shake hands inside grabbing a book \u001b[1m\u001b[31mtossing\u001b[0m|\u001b[1m\u001b[33mpassing\u001b[0m the book \u001b[1m\u001b[31mtwirling her finger aside her ear\u001b[0m|\u001b[1m\u001b[33mlike\u001b[0m grabbing a wine bottle \u001b[1m\u001b[32myeah\u001b[0m smiling opening the screw cap on the wine \u001b[1m\u001b[31mthey go out to the terrace they each\u001b[0m|\u001b[1m\u001b[33mwith these\u001b[0m take a sip of wine \u001b[1m\u001b[32mhe looks up his lips buttoned shut thank you\u001b[0m she smiles and takes a sip \u001b[1m\u001b[31malvy\u001b[0m|\u001b[1m\u001b[33mjavi\u001b[0m punctuates his frown with a quick smile \u001b[1m\u001b[32mso did you do those photographs in there or what\u001b[0m making hand gestures then looking down at the floor \u001b[1m\u001b[31mat the club\u001b[0m annie stands on a small stage under a purple light \u001b[1m\u001b[31ma party of four\u001b[0m|\u001b[1m\u001b[33mthe floor\u001b[0m is seated in front of the stage \u001b[1m\u001b[31mlater annie and alvy\u001b[0m|\u001b[1m\u001b[33mnow if we\u001b[0m hurry down the sidewalk in a deli restaurant alvy tilts his head in bed in a bookstore \u001b[1m\u001b[31malvy\u001b[0m|\u001b[1m\u001b[33malvie\u001b[0m picks up a couple of books and approaches annie later annie and \u001b[1m\u001b[31malvy\u001b[0m|\u001b[1m\u001b[33malvie\u001b[0m sit on a park bench \u001b[1m\u001b[31mthat evening\u001b[0m they walk along the east river \u001b[1m\u001b[31mthey\u001b[0m|\u001b[1m\u001b[33ma\u001b[0m kiss in \u001b[1m\u001b[31malvy's\u001b[0m|\u001b[1m\u001b[33malvie's\u001b[0m apartment carrying boxes they drive by the seaside to the beach house they sit on a bed reading putting his arms around her getting up \u001b[1m\u001b[31mback in bed\u001b[0m grabbing it away from her getting up placing a red \u001b[1m\u001b[31mlightbulb\u001b[0m|\u001b[1m\u001b[33mlight bulb\u001b[0m on the lamp he strips off his pants and leaps back into bed they \u001b[1m\u001b[31membrace now\u001b[0m|\u001b[1m\u001b[33membraced no\u001b[0m two annies one stays in \u001b[1m\u001b[31mthe\u001b[0m bed the other gets up \u001b[1m\u001b[31mgrumpy out of bed annie pointing at the other annie\u001b[0m in an office to \u001b[1m\u001b[31malvy forcing a smile\u001b[0m|\u001b[1m\u001b[33malvi voicing us\u001b[0m in a packed auditorium \u001b[1m\u001b[31malvy\u001b[0m|\u001b[1m\u001b[33mhow he\u001b[0m stands on the stage under a spotlight \u001b[1m\u001b[31mafter the show\u001b[0m in their house at the dinner table \u001b[1m\u001b[31malvy\u001b[0m|\u001b[1m\u001b[33malfie\u001b[0m eats and looks around nervously says annie's mother says dad grammy glares at him \u001b[1m\u001b[31malvy\u001b[0m|\u001b[1m\u001b[33mlv\u001b[0m again looks back and forth grammy looks again at alvy now in a big black hat and a long scraggly beard back to his regular appearance \u001b[1m\u001b[31mgrammy\u001b[0m|\u001b[1m\u001b[33mkwame\u001b[0m scowls at him speaking to us \u001b[1m\u001b[31mon the right alvy's family on the left\u001b[0m dinner with the \u001b[1m\u001b[31mhall family\u001b[0m|\u001b[1m\u001b[33mhud\u001b[0m later walking into \u001b[1m\u001b[31mduane's\u001b[0m|\u001b[1m\u001b[33mjoanne's\u001b[0m bedroom alvy sits down \u001b[1m\u001b[31mlater annie's\u001b[0m|\u001b[1m\u001b[33mand his\u001b[0m parents kiss \u001b[1m\u001b[31mduane annie and alvy\u001b[0m|\u001b[1m\u001b[33mdwayne annie and albie\u001b[0m packed into \u001b[1m\u001b[31mduane's\u001b[0m|\u001b[1m\u001b[33mdwayne's\u001b[0m car \u001b[1m\u001b[31malvy's\u001b[0m|\u001b[1m\u001b[33malbie's\u001b[0m face droops in despair back in the city annie and \u001b[1m\u001b[31malvy back\u001b[0m|\u001b[1m\u001b[33malbie walk\u001b[0m down the sidewalk \u001b[1m\u001b[31minside alvy washes\u001b[0m|\u001b[1m\u001b[33mi'll be washed his\u001b[0m dishes putting down the groceries \u001b[1m\u001b[31mto us outside\u001b[0m she gets into a cab which drives \u001b[1m\u001b[31moff\u001b[0m a pedestrian to an oncoming man the man walks off \u001b[1m\u001b[31mthey\u001b[0m|\u001b[1m\u001b[33mplease\u001b[0m smile and continue along talking to a \u001b[1m\u001b[31mmounted\u001b[0m|\u001b[1m\u001b[33mmagic\u001b[0m policeman's horse \u001b[1m\u001b[31malvy\u001b[0m appears in the cartoon out of the cartoon she and \u001b[1m\u001b[31malvy\u001b[0m|\u001b[1m\u001b[33malbie\u001b[0m walk down a crowded corridor a security guard holds back the crowd \u001b[1m\u001b[31mthe maharishi in bed alvy\u001b[0m|\u001b[1m\u001b[33malbie\u001b[0m puts his glasses back on massaging himself around the mouth picking up a booklet \u001b[1m\u001b[31mannie\u001b[0m|\u001b[1m\u001b[33mand he\u001b[0m waits as alvy heads for the bathroom and he's back grabbing a tennis racket in the bathroom he looks at the shelf over the sink he swats \u001b[1m\u001b[31mat\u001b[0m|\u001b[1m\u001b[33mup\u001b[0m the shower curtain the curtain collapses \u001b[1m\u001b[31mhe\u001b[0m|\u001b[1m\u001b[33mit\u001b[0m emerges from the bathroom goes into annie's bedroom he sits down next to her putting his arm around her in bed together \u001b[1m\u001b[31min the car they walk up to the rollercoaster annie alvy\u001b[0m|\u001b[1m\u001b[33mannie alvie\u001b[0m and rob watch pointing into a suddenly crowded room \u001b[1m\u001b[31mthe house shakes from the rollercoaster\u001b[0m slapping a nickel \u001b[1m\u001b[31mon\u001b[0m|\u001b[1m\u001b[33monto\u001b[0m his forehead pinching the cheek of young \u001b[1m\u001b[31malvy\u001b[0m|\u001b[1m\u001b[33malvie\u001b[0m who walks away from him \u001b[1m\u001b[31ma frumpy old lady she\u001b[0m|\u001b[1m\u001b[33mfrom\u001b[0m demonstrates on the sidewalk \u001b[1m\u001b[32myeah but no presents till midnight\u001b[0m in the apartment she unwraps a box a negligee handing her a smaller box a wristwatch they kiss at a nightclub annie stands in front of a microphone a man walks up to their table with his entourage \u001b[1m\u001b[31malvy\u001b[0m|\u001b[1m\u001b[33moh he\u001b[0m looks on \u001b[1m\u001b[32mus\u001b[0m nods his head sarcastically they shake hands \u001b[1m\u001b[31mannie\u001b[0m|\u001b[1m\u001b[33mand he\u001b[0m turns to \u001b[1m\u001b[31malvy they leave\u001b[0m|\u001b[1m\u001b[33malfie\u001b[0m a black and white movie subtitles the jewish warmongers tried to flee with their gold annie and \u001b[1m\u001b[31malvy\u001b[0m|\u001b[1m\u001b[33malfie\u001b[0m each with their \u001b[1m\u001b[31mpsychiatrists later alvy\u001b[0m|\u001b[1m\u001b[33mpsychiatrist albie\u001b[0m picks up a small ornately decorated box dipping his finger in it and sticking it up his nose a big \u001b[1m\u001b[31mcloud\u001b[0m|\u001b[1m\u001b[33mclad\u001b[0m of dust in the man's face on a street lined with palm trees santa and his sleigh on a green lawn they drive past a \u001b[1m\u001b[31mhotdog\u001b[0m|\u001b[1m\u001b[33mhot dog\u001b[0m stand \u001b[1m\u001b[31ma fatburger\u001b[0m|\u001b[1m\u001b[33mbat burger\u001b[0m a cinema showing house of exorcism and messiah of evil in a tv studio \u001b[1m\u001b[31malvy\u001b[0m|\u001b[1m\u001b[33mcharlie\u001b[0m in bed \u001b[1m\u001b[31mtaking a bite of the chicken\u001b[0m in the car they drive up to a house where many cars are parked \u001b[1m\u001b[31mat a party\u001b[0m|\u001b[1m\u001b[33mnot only is he a great agent but he really gives good meaning\u001b[0m later they pass a man talking on the phone in a large crowded room \u001b[1m\u001b[31malvy\u001b[0m|\u001b[1m\u001b[33malbie\u001b[0m talks to a tall woman and another woman comes by \u001b[1m\u001b[31mand\u001b[0m shakes his hand annie starts dancing with tony who is much shorter than she is on an \u001b[1m\u001b[31maeroplane alvy\u001b[0m|\u001b[1m\u001b[33mairplane now he\u001b[0m is reading annie holds a coffee cup and looks away from him they both sit silently \u001b[1m\u001b[31mannie\u001b[0m|\u001b[1m\u001b[33mand it\u001b[0m speaks \u001b[1m\u001b[31mup in the apartment\u001b[0m|\u001b[1m\u001b[33mout\u001b[0m carrying a stack of books bringing it to her placing books in a cardboard box \u001b[1m\u001b[31malvy\u001b[0m|\u001b[1m\u001b[33malve\u001b[0m walks out from \u001b[1m\u001b[31ma\u001b[0m|\u001b[1m\u001b[33mthe\u001b[0m cinema \u001b[1m\u001b[31mjust\u001b[0m|\u001b[1m\u001b[33mas\u001b[0m a random pedestrian an elderly lady steps up reaching in his pocket \u001b[1m\u001b[31mpicking up lobsters off the floor alvy\u001b[0m|\u001b[1m\u001b[33malvie\u001b[0m walks alone by the river back in his apartment \u001b[1m\u001b[31malvy\u001b[0m|\u001b[1m\u001b[33malfie\u001b[0m talks on the phone on an airplane in a phone booth in the car he walks up to a sidewalk cafe looks around sits down at a table \u001b[1m\u001b[31mthe\u001b[0m|\u001b[1m\u001b[33ma\u001b[0m waitress in a tie dyed robe hands \u001b[1m\u001b[31mhim a\u001b[0m|\u001b[1m\u001b[33mon my\u001b[0m menu he grimaces and hands back the menu annie arrives and sits down at his table they smile and shake hands annie slowly shakes her head he points \u001b[1m\u001b[31mat\u001b[0m|\u001b[1m\u001b[33mit\u001b[0m himself standing up she walks \u001b[1m\u001b[31moff and he follows her she goes to her car\u001b[0m|\u001b[1m\u001b[33mout\u001b[0m getting into his rental car he starts the car looks over his shoulder and the car lurches forward knocking over several garbage cans the \u001b[1m\u001b[31mbumpers\u001b[0m|\u001b[1m\u001b[33mbumper cars\u001b[0m of his youth meanwhile in la he backs into an approaching car bumper cars \u001b[1m\u001b[31mforward\u001b[0m|\u001b[1m\u001b[33mlowered\u001b[0m into a parked car bumper cars reverse into yet another car a motorcycle cop arrives \u001b[1m\u001b[31malvy\u001b[0m|\u001b[1m\u001b[33malvin\u001b[0m gets out of the car he reaches into his pocket taking it out dropping it on the ground \u001b[1m\u001b[31malvy\u001b[0m|\u001b[1m\u001b[33malbie\u001b[0m reaches down to the ground ripping it up a man walks \u001b[1m\u001b[31mtoward the\u001b[0m|\u001b[1m\u001b[33mtowards a\u001b[0m jail cell slides open the door \u001b[1m\u001b[31malvy to his cell mates\u001b[0m|\u001b[1m\u001b[33malvie to his cellmates\u001b[0m walking out of the cell \u001b[1m\u001b[31malvy\u001b[0m|\u001b[1m\u001b[33malbie\u001b[0m and rob walk out of the police station they go into his car he pulls a \u001b[1m\u001b[31mhead\u001b[0m|\u001b[1m\u001b[33mhood\u001b[0m over his head with built in goggles \u001b[1m\u001b[31malvy\u001b[0m|\u001b[1m\u001b[33malfie\u001b[0m at a play rehearsal standing \u001b[1m\u001b[31mup\u001b[0m walking off standing up he comes back to her they embrace \u001b[1m\u001b[31malvy\u001b[0m|\u001b[1m\u001b[33malfie\u001b[0m looks at them \u001b[1m\u001b[31mand\u001b[0m then at us and raises his eyebrows annie sitting with alvy at a small table laughs hysterically elsewhere annie driving with \u001b[1m\u001b[31malvy\u001b[0m|\u001b[1m\u001b[33malvie\u001b[0m annie handing \u001b[1m\u001b[31malvy\u001b[0m|\u001b[1m\u001b[33malvie\u001b[0m a lobster which he drops on the floor walking together along the beach at the indoor tennis court in their apartment in a bookstore sitting next to each other on a bed \u001b[1m\u001b[31malvy\u001b[0m|\u001b[1m\u001b[33malfie\u001b[0m holds the cocaine box and sneezes annie playing tennis at the \u001b[1m\u001b[31mtheatre in wiscousin\u001b[0m|\u001b[1m\u001b[33mtheater in wisconsin\u001b[0m sitting together in bed \u001b[1m\u001b[31malvy\u001b[0m|\u001b[1m\u001b[33malfie\u001b[0m kissing her having an argument in \u001b[1m\u001b[31malvy's\u001b[0m|\u001b[1m\u001b[33malfie's\u001b[0m apartment annie holding up the gift negligee and kissing him walking together on the sidewalk on a park bench kissing by the east river at dusk now on the sidewalk across from lincoln center they shake hands and kiss \u001b[1m\u001b[31mand annie walks off alvy just stands there watches her leave\u001b[0m then he too walks off \n"
     ]
    }
   ],
   "source": [
    "trans_df = pd.read_parquet(os.path.join(da.transcription_dir, da.transcript_df_fp.format(movie_name=movie_name)))\n",
    "trans_df = trans_df[trans_df['text'].ne(' Thank you.')]['text']\n",
    "trans_txt = ''.join(trans_df.str.replace('[\\.,\"\\?]', '', regex=True)).lower().replace('-', ' ')\n",
    "\n",
    "stt.visualise_wer_differences(trans_txt, annie_hall_man_txt)"
   ]
  }
 ],
 "metadata": {
  "kernelspec": {
   "display_name": "thesis",
   "language": "python",
   "name": "thesis"
  },
  "language_info": {
   "codemirror_mode": {
    "name": "ipython",
    "version": 3
   },
   "file_extension": ".py",
   "mimetype": "text/x-python",
   "name": "python",
   "nbconvert_exporter": "python",
   "pygments_lexer": "ipython3",
   "version": "3.11.10"
  }
 },
 "nbformat": 4,
 "nbformat_minor": 5
}
