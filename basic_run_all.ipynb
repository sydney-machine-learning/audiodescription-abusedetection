{
 "cells": [
  {
   "cell_type": "code",
   "execution_count": 1,
   "id": "5c47cdc4",
   "metadata": {},
   "outputs": [],
   "source": [
    "import logging\n",
    "logging.basicConfig(level=logging.INFO, format='%(levelname)s - %(asctime)s - %(message)s')\n",
    "\n",
    "import pandas as pd\n",
    "pd.options.mode.chained_assignment = None\n",
    "\n",
    "import numpy as np\n",
    "import matplotlib.pyplot as plt\n",
    "import whisper\n",
    "\n",
    "import tiktoken\n",
    "whisper_tokenizer = whisper.tokenizer.get_tokenizer(tiktoken.get_encoding(tiktoken.list_encoding_names()[-1]), num_languages=1)\n",
    "\n",
    "import json\n",
    "\n",
    "with open('config.json') as fileobj:\n",
    "    hf_token = json.load(fileobj)['hugging_face_token']\n",
    "\n",
    "import torch\n",
    "\n",
    "from sklearn.metrics import RocCurveDisplay, ConfusionMatrixDisplay, confusion_matrix\n",
    "\n",
    "from transformers import (\n",
    "    AutoTokenizer,\n",
    "    AutoModelForSequenceClassification,\n",
    "    Trainer,\n",
    "    TrainingArguments\n",
    ")\n",
    "\n",
    "import os\n",
    "\n",
    "from IPython.display import clear_output\n",
    "clear_output()\n",
    "\n",
    "import utils\n",
    "import data_extraction as da\n",
    "import modelling as md\n",
    "\n",
    "audio_dir = os.path.join('data', 'audio-vault')\n",
    "transcription_dir = os.path.join(audio_dir, 'transcriptions')\n",
    "diarization_dir = os.path.join(audio_dir, 'diarization_segments')\n",
    "\n",
    "vsd_dir = os.path.join('data', 'VSD', 'VSD2014_officialrelease', 'VSD_2014_December_official_release', 'Hollywood-dev')\n",
    "vsd_features_dir = os.path.join(vsd_dir, 'features')\n",
    "vsd_annotations_dir = os.path.join(vsd_dir, 'annotations')\n",
    "\n",
    "utils.ensure_dir_exists(transcription_dir)\n",
    "\n",
    "transcript_df_fp = '{movie_name}-transcript.parquet'\n",
    "\n",
    "max_break = 15 # seconds\n",
    "max_seg_duration = 60 # seconds\n",
    "\n",
    "batch_size = 16\n",
    "num_epochs = 1\n",
    "\n",
    "# enc_model = 'bert-large-uncased'\n",
    "enc_model = 'bert-base-uncased'\n",
    "\n",
    "num_layers = 2\n",
    "unfreeze_layers = {\n",
    "    # 'microsoft/deberta-v3-base': 12,\n",
    "    # 'microsoft/deberta-v3-large': 24,\n",
    "    'bert-large-uncased': 24,\n",
    "    'bert-base-uncased': 12,\n",
    "    'answerdotai/ModernBERT-base': 11,\n",
    "    'answerdotai/ModernBERT-large': 27\n",
    "}\n",
    "\n",
    "whisper_model = 'turbo'\n",
    "max_enc_len = 1000\n",
    "\n",
    "excl_dialogue = True\n",
    "\n",
    "# TODO: utilise bitsandbytes"
   ]
  },
  {
   "cell_type": "markdown",
   "id": "5847ad6c",
   "metadata": {},
   "source": [
    "### TODO:\n",
    "- Creatures are rarely described in detail but assumed that person views clips of them beforehand?"
   ]
  },
  {
   "cell_type": "code",
   "execution_count": 2,
   "id": "097440ce",
   "metadata": {},
   "outputs": [],
   "source": [
    "def calc_speed_ratio(first_annot, last_annot, last_seg):\n",
    "    return 1 + (last_seg - last_annot) / (last_annot - first_annot)\n",
    "\n",
    "movie_offsets = {\n",
    "    # Offset for first event, then multiplier for transcript speed differences\n",
    "    'PiratesOfTheCarribeanTheCurseOfTheBlackPearl': (95, calc_speed_ratio(1772, 7065, 7291)), # Fantasy\n",
    "    'SavingPrivateRyan': (14, calc_speed_ratio(663, 8907, 9263)), # War\n",
    "    'FightClub': (-162, calc_speed_ratio(2542, 7676, 7782)), # Modern\n",
    "    'IAmLegend': (2, 1), # Dystopian \n",
    "    'ReservoirDogs': (-13, calc_speed_ratio(565, 5490, 5465)) # Crime\n",
    "}"
   ]
  },
  {
   "cell_type": "code",
   "execution_count": 3,
   "id": "26afe069",
   "metadata": {},
   "outputs": [],
   "source": [
    "# Extract and tokenize subtitles for matching\n",
    "subs_dict = da.extract_subs()\n",
    "subs_df_list = []\n",
    "\n",
    "for movie, subs_df in subs_dict.items():\n",
    "    subs_df['dialogue'] = da.clean_dialogue(subs_df['raw_dialogue'])\n",
    "    subs_df['tokens'] = subs_df['dialogue'].apply(lambda x: whisper_tokenizer.encode(x))\n",
    "    subs_df['movie'] = movie\n",
    "    subs_df_list.append(subs_df)\n",
    "    \n",
    "subs_df = pd.concat(subs_df_list)"
   ]
  },
  {
   "cell_type": "code",
   "execution_count": 4,
   "id": "07a73bf8",
   "metadata": {},
   "outputs": [],
   "source": [
    "annotations_df = da.get_vsd_movie_annotations(vsd_annotations_dir, list(movie_offsets.keys()))\n",
    "gore_mask = annotations_df.annotation_cat.eq('gore')\n",
    "blood_mask = annotations_df.annotation_cat.eq('blood') & annotations_df.desc.isin(['low', 'medium', 'high'])\n",
    "gore_df = annotations_df[gore_mask | blood_mask].copy()\n",
    "gore_df['full_annotation_cat'] = gore_df['annotation_cat'] + '-' + gore_df['desc']\n",
    "gore_df = gore_df.drop(columns=['desc'])"
   ]
  },
  {
   "cell_type": "code",
   "execution_count": 5,
   "id": "5ff0eb45",
   "metadata": {},
   "outputs": [],
   "source": [
    "# Convert from 25 fps to seconds, and add ARBITRARY offset based on observation (movies out of sync)\n",
    "gore_df[['start_sec', 'end_sec']] = gore_df[['start', 'finish']] / 25\n",
    "\n",
    "gore_df = da.convert_time_to_readable_txt(gore_df, [('start_sec', 'start_txt'), ('end_sec', 'end_txt')])\n",
    "# Buffering start and finish 1 second either side (no need to be precise)\n",
    "gore_df['start_sec'] -= 1\n",
    "gore_df['end_sec'] += 1\n",
    "gore_df['seg_duration'] = gore_df['end_sec'] - gore_df['start_sec'] "
   ]
  },
  {
   "cell_type": "code",
   "execution_count": 6,
   "id": "d6488476",
   "metadata": {},
   "outputs": [],
   "source": [
    "seg_df = da.get_segments(transcription_dir, gore_df['movie'].unique(), transcript_df_fp, whisper_tokenizer)\n",
    "seg_df['duration'] = seg_df['end'] - seg_df['start']\n",
    "\n",
    "gore_df = gore_df.sort_values('start')\n",
    "\n",
    "# Add individual offsets to align each movie with audio recording\n",
    "for movie, (offset, ratio) in movie_offsets.items():\n",
    "    vec = seg_df.loc[seg_df.movie.eq(movie), ['start']]\n",
    "    first_annot = gore_df['start_sec'][gore_df.movie.eq(movie)].iloc[0]\n",
    "    seg_df.loc[seg_df.movie.eq(movie), ['start']] = first_annot + (vec - offset - first_annot) / ratio\n",
    "\n",
    "seg_df['end'] = seg_df['start'] + seg_df['duration']\n",
    "\n",
    "seg_df = da.convert_time_to_readable_txt(seg_df, [('start', 'start_txt'), ('end', 'end_txt')])"
   ]
  },
  {
   "cell_type": "code",
   "execution_count": 7,
   "id": "91b965cc",
   "metadata": {},
   "outputs": [],
   "source": [
    "# total_training_steps = (len(train_y) // batch_size) * num_epochs\n",
    "# quarter_epoch_steps = (total_training_steps // num_epochs) // 4\n",
    "\n",
    "training_args = TrainingArguments(\n",
    "    num_train_epochs=num_epochs,\n",
    "    fp16=True,\n",
    "    weight_decay=0.01,\n",
    "    \n",
    "    eval_strategy='epoch',\n",
    "    # eval_steps=quarter_epoch_steps,\n",
    "    logging_strategy=\"epoch\",         \n",
    "    # logging_steps=quarter_epoch_steps,\n",
    "    per_device_train_batch_size=batch_size,\n",
    "    per_device_eval_batch_size=batch_size,\n",
    "    \n",
    "    output_dir=\"./results\",\n",
    "    logging_dir=\"./logs\",\n",
    "    report_to=\"none\",\n",
    "    \n",
    "    load_best_model_at_end=True,\n",
    "    save_strategy='epoch',\n",
    "    metric_for_best_model=\"eval_recall\",\n",
    "    greater_is_better=False,\n",
    "    save_total_limit=1\n",
    ")"
   ]
  },
  {
   "cell_type": "code",
   "execution_count": null,
   "id": "b2664041",
   "metadata": {},
   "outputs": [
    {
     "name": "stderr",
     "output_type": "stream",
     "text": [
      "INFO - 2025-05-22 14:45:42,885 - Curr Model: answerdotai/ModernBERT-base\n",
      "INFO - 2025-05-22 14:45:45,173 - Current Test Set: PiratesOfTheCarribeanTheCurseOfTheBlackPearl\n"
     ]
    },
    {
     "ename": "RuntimeError",
     "evalue": "CUDA error: device-side assert triggered\nCompile with `TORCH_USE_CUDA_DSA` to enable device-side assertions.\n",
     "output_type": "error",
     "traceback": [
      "\u001b[0;31m---------------------------------------------------------------------------\u001b[0m",
      "\u001b[0;31mRuntimeError\u001b[0m                              Traceback (most recent call last)",
      "Cell \u001b[0;32mIn[17], line 33\u001b[0m\n\u001b[1;32m     30\u001b[0m model \u001b[38;5;241m=\u001b[39m md\u001b[38;5;241m.\u001b[39mCustomLossModel(enc_model, loss_fn, thawed_layers)\n\u001b[1;32m     31\u001b[0m logging\u001b[38;5;241m.\u001b[39mgetLogger(\u001b[38;5;124m\"\u001b[39m\u001b[38;5;124mtransformers.modeling_utils\u001b[39m\u001b[38;5;124m\"\u001b[39m)\u001b[38;5;241m.\u001b[39msetLevel(logging\u001b[38;5;241m.\u001b[39mWARN)\n\u001b[0;32m---> 33\u001b[0m trainer \u001b[38;5;241m=\u001b[39m \u001b[43mTrainer\u001b[49m\u001b[43m(\u001b[49m\n\u001b[1;32m     34\u001b[0m \u001b[43m    \u001b[49m\u001b[43mmodel\u001b[49m\u001b[38;5;241;43m=\u001b[39;49m\u001b[43mmodel\u001b[49m\u001b[43m,\u001b[49m\n\u001b[1;32m     35\u001b[0m \u001b[43m    \u001b[49m\u001b[43margs\u001b[49m\u001b[38;5;241;43m=\u001b[39;49m\u001b[43mtraining_args\u001b[49m\u001b[43m,\u001b[49m\n\u001b[1;32m     36\u001b[0m \u001b[43m    \u001b[49m\u001b[43mtrain_dataset\u001b[49m\u001b[38;5;241;43m=\u001b[39;49m\u001b[43mtrain_ds\u001b[49m\u001b[43m,\u001b[49m\n\u001b[1;32m     37\u001b[0m \u001b[43m    \u001b[49m\u001b[43meval_dataset\u001b[49m\u001b[38;5;241;43m=\u001b[39;49m\u001b[43mtest_ds\u001b[49m\u001b[43m,\u001b[49m\n\u001b[1;32m     38\u001b[0m \u001b[43m    \u001b[49m\u001b[43mcompute_metrics\u001b[49m\u001b[38;5;241;43m=\u001b[39;49m\u001b[43mmd\u001b[49m\u001b[38;5;241;43m.\u001b[39;49m\u001b[43mcompute_metrics\u001b[49m\u001b[43m,\u001b[49m\n\u001b[1;32m     39\u001b[0m \u001b[43m    \u001b[49m\u001b[43mcallbacks\u001b[49m\u001b[38;5;241;43m=\u001b[39;49m\u001b[43m[\u001b[49m\u001b[43mmd\u001b[49m\u001b[38;5;241;43m.\u001b[39;49m\u001b[43mFractionalTrainEvalCallback\u001b[49m\u001b[43m]\u001b[49m\n\u001b[1;32m     40\u001b[0m \u001b[43m\u001b[49m\u001b[43m)\u001b[49m\n\u001b[1;32m     42\u001b[0m \u001b[38;5;66;03m# torch.cuda.empty_cache()\u001b[39;00m\n\u001b[1;32m     43\u001b[0m trainer\u001b[38;5;241m.\u001b[39mtrain()\n",
      "File \u001b[0;32m~/projects/honours-thesis/.venv/lib/python3.11/site-packages/transformers/utils/deprecation.py:172\u001b[0m, in \u001b[0;36mdeprecate_kwarg.<locals>.wrapper.<locals>.wrapped_func\u001b[0;34m(*args, **kwargs)\u001b[0m\n\u001b[1;32m    168\u001b[0m \u001b[38;5;28;01melif\u001b[39;00m minimum_action \u001b[38;5;129;01min\u001b[39;00m (Action\u001b[38;5;241m.\u001b[39mNOTIFY, Action\u001b[38;5;241m.\u001b[39mNOTIFY_ALWAYS) \u001b[38;5;129;01mand\u001b[39;00m \u001b[38;5;129;01mnot\u001b[39;00m is_torchdynamo_compiling():\n\u001b[1;32m    169\u001b[0m     \u001b[38;5;66;03m# DeprecationWarning is ignored by default, so we use FutureWarning instead\u001b[39;00m\n\u001b[1;32m    170\u001b[0m     warnings\u001b[38;5;241m.\u001b[39mwarn(message, \u001b[38;5;167;01mFutureWarning\u001b[39;00m, stacklevel\u001b[38;5;241m=\u001b[39m\u001b[38;5;241m2\u001b[39m)\n\u001b[0;32m--> 172\u001b[0m \u001b[38;5;28;01mreturn\u001b[39;00m \u001b[43mfunc\u001b[49m\u001b[43m(\u001b[49m\u001b[38;5;241;43m*\u001b[39;49m\u001b[43margs\u001b[49m\u001b[43m,\u001b[49m\u001b[43m \u001b[49m\u001b[38;5;241;43m*\u001b[39;49m\u001b[38;5;241;43m*\u001b[39;49m\u001b[43mkwargs\u001b[49m\u001b[43m)\u001b[49m\n",
      "File \u001b[0;32m~/projects/honours-thesis/.venv/lib/python3.11/site-packages/transformers/trainer.py:457\u001b[0m, in \u001b[0;36mTrainer.__init__\u001b[0;34m(self, model, args, data_collator, train_dataset, eval_dataset, processing_class, model_init, compute_loss_func, compute_metrics, callbacks, optimizers, optimizer_cls_and_kwargs, preprocess_logits_for_metrics)\u001b[0m\n\u001b[1;32m    455\u001b[0m \u001b[38;5;28mself\u001b[39m\u001b[38;5;241m.\u001b[39mcompute_loss_func \u001b[38;5;241m=\u001b[39m compute_loss_func\n\u001b[1;32m    456\u001b[0m \u001b[38;5;66;03m# Seed must be set before instantiating the model when using model\u001b[39;00m\n\u001b[0;32m--> 457\u001b[0m enable_full_determinism(\u001b[38;5;28mself\u001b[39m\u001b[38;5;241m.\u001b[39margs\u001b[38;5;241m.\u001b[39mseed) \u001b[38;5;28;01mif\u001b[39;00m \u001b[38;5;28mself\u001b[39m\u001b[38;5;241m.\u001b[39margs\u001b[38;5;241m.\u001b[39mfull_determinism \u001b[38;5;28;01melse\u001b[39;00m \u001b[43mset_seed\u001b[49m\u001b[43m(\u001b[49m\u001b[38;5;28;43mself\u001b[39;49m\u001b[38;5;241;43m.\u001b[39;49m\u001b[43margs\u001b[49m\u001b[38;5;241;43m.\u001b[39;49m\u001b[43mseed\u001b[49m\u001b[43m)\u001b[49m\n\u001b[1;32m    459\u001b[0m \u001b[38;5;28mself\u001b[39m\u001b[38;5;241m.\u001b[39mhp_name \u001b[38;5;241m=\u001b[39m \u001b[38;5;28;01mNone\u001b[39;00m\n\u001b[1;32m    460\u001b[0m \u001b[38;5;28mself\u001b[39m\u001b[38;5;241m.\u001b[39mdeepspeed \u001b[38;5;241m=\u001b[39m \u001b[38;5;28;01mNone\u001b[39;00m\n",
      "File \u001b[0;32m~/projects/honours-thesis/.venv/lib/python3.11/site-packages/transformers/trainer_utils.py:105\u001b[0m, in \u001b[0;36mset_seed\u001b[0;34m(seed, deterministic)\u001b[0m\n\u001b[1;32m    103\u001b[0m np\u001b[38;5;241m.\u001b[39mrandom\u001b[38;5;241m.\u001b[39mseed(seed)\n\u001b[1;32m    104\u001b[0m \u001b[38;5;28;01mif\u001b[39;00m is_torch_available():\n\u001b[0;32m--> 105\u001b[0m     \u001b[43mtorch\u001b[49m\u001b[38;5;241;43m.\u001b[39;49m\u001b[43mmanual_seed\u001b[49m\u001b[43m(\u001b[49m\u001b[43mseed\u001b[49m\u001b[43m)\u001b[49m\n\u001b[1;32m    106\u001b[0m     torch\u001b[38;5;241m.\u001b[39mcuda\u001b[38;5;241m.\u001b[39mmanual_seed_all(seed)\n\u001b[1;32m    107\u001b[0m     \u001b[38;5;66;03m# ^^ safe to call this function even if cuda is not available\u001b[39;00m\n",
      "File \u001b[0;32m~/projects/honours-thesis/.venv/lib/python3.11/site-packages/torch/_compile.py:51\u001b[0m, in \u001b[0;36m_disable_dynamo.<locals>.inner\u001b[0;34m(*args, **kwargs)\u001b[0m\n\u001b[1;32m     48\u001b[0m     disable_fn \u001b[38;5;241m=\u001b[39m torch\u001b[38;5;241m.\u001b[39m_dynamo\u001b[38;5;241m.\u001b[39mdisable(fn, recursive)\n\u001b[1;32m     49\u001b[0m     fn\u001b[38;5;241m.\u001b[39m__dynamo_disable \u001b[38;5;241m=\u001b[39m disable_fn  \u001b[38;5;66;03m# type: ignore[attr-defined]\u001b[39;00m\n\u001b[0;32m---> 51\u001b[0m \u001b[38;5;28;01mreturn\u001b[39;00m \u001b[43mdisable_fn\u001b[49m\u001b[43m(\u001b[49m\u001b[38;5;241;43m*\u001b[39;49m\u001b[43margs\u001b[49m\u001b[43m,\u001b[49m\u001b[43m \u001b[49m\u001b[38;5;241;43m*\u001b[39;49m\u001b[38;5;241;43m*\u001b[39;49m\u001b[43mkwargs\u001b[49m\u001b[43m)\u001b[49m\n",
      "File \u001b[0;32m~/projects/honours-thesis/.venv/lib/python3.11/site-packages/torch/_dynamo/eval_frame.py:838\u001b[0m, in \u001b[0;36mDisableContext.__call__.<locals>._fn\u001b[0;34m(*args, **kwargs)\u001b[0m\n\u001b[1;32m    836\u001b[0m _maybe_set_eval_frame(_callback_from_stance(\u001b[38;5;28mself\u001b[39m\u001b[38;5;241m.\u001b[39mcallback))\n\u001b[1;32m    837\u001b[0m \u001b[38;5;28;01mtry\u001b[39;00m:\n\u001b[0;32m--> 838\u001b[0m     \u001b[38;5;28;01mreturn\u001b[39;00m \u001b[43mfn\u001b[49m\u001b[43m(\u001b[49m\u001b[38;5;241;43m*\u001b[39;49m\u001b[43margs\u001b[49m\u001b[43m,\u001b[49m\u001b[43m \u001b[49m\u001b[38;5;241;43m*\u001b[39;49m\u001b[38;5;241;43m*\u001b[39;49m\u001b[43mkwargs\u001b[49m\u001b[43m)\u001b[49m\n\u001b[1;32m    839\u001b[0m \u001b[38;5;28;01mfinally\u001b[39;00m:\n\u001b[1;32m    840\u001b[0m     set_eval_frame(\u001b[38;5;28;01mNone\u001b[39;00m)\n",
      "File \u001b[0;32m~/projects/honours-thesis/.venv/lib/python3.11/site-packages/torch/random.py:46\u001b[0m, in \u001b[0;36mmanual_seed\u001b[0;34m(seed)\u001b[0m\n\u001b[1;32m     43\u001b[0m \u001b[38;5;28;01mimport\u001b[39;00m \u001b[38;5;21;01mtorch\u001b[39;00m\u001b[38;5;21;01m.\u001b[39;00m\u001b[38;5;21;01mcuda\u001b[39;00m\n\u001b[1;32m     45\u001b[0m \u001b[38;5;28;01mif\u001b[39;00m \u001b[38;5;129;01mnot\u001b[39;00m torch\u001b[38;5;241m.\u001b[39mcuda\u001b[38;5;241m.\u001b[39m_is_in_bad_fork():\n\u001b[0;32m---> 46\u001b[0m     \u001b[43mtorch\u001b[49m\u001b[38;5;241;43m.\u001b[39;49m\u001b[43mcuda\u001b[49m\u001b[38;5;241;43m.\u001b[39;49m\u001b[43mmanual_seed_all\u001b[49m\u001b[43m(\u001b[49m\u001b[43mseed\u001b[49m\u001b[43m)\u001b[49m\n\u001b[1;32m     48\u001b[0m \u001b[38;5;28;01mimport\u001b[39;00m \u001b[38;5;21;01mtorch\u001b[39;00m\u001b[38;5;21;01m.\u001b[39;00m\u001b[38;5;21;01mmps\u001b[39;00m\n\u001b[1;32m     50\u001b[0m \u001b[38;5;28;01mif\u001b[39;00m \u001b[38;5;129;01mnot\u001b[39;00m torch\u001b[38;5;241m.\u001b[39mmps\u001b[38;5;241m.\u001b[39m_is_in_bad_fork():\n",
      "File \u001b[0;32m~/projects/honours-thesis/.venv/lib/python3.11/site-packages/torch/cuda/random.py:128\u001b[0m, in \u001b[0;36mmanual_seed_all\u001b[0;34m(seed)\u001b[0m\n\u001b[1;32m    125\u001b[0m         default_generator \u001b[38;5;241m=\u001b[39m torch\u001b[38;5;241m.\u001b[39mcuda\u001b[38;5;241m.\u001b[39mdefault_generators[i]\n\u001b[1;32m    126\u001b[0m         default_generator\u001b[38;5;241m.\u001b[39mmanual_seed(seed)\n\u001b[0;32m--> 128\u001b[0m \u001b[43m_lazy_call\u001b[49m\u001b[43m(\u001b[49m\u001b[43mcb\u001b[49m\u001b[43m,\u001b[49m\u001b[43m \u001b[49m\u001b[43mseed_all\u001b[49m\u001b[38;5;241;43m=\u001b[39;49m\u001b[38;5;28;43;01mTrue\u001b[39;49;00m\u001b[43m)\u001b[49m\n",
      "File \u001b[0;32m~/projects/honours-thesis/.venv/lib/python3.11/site-packages/torch/cuda/__init__.py:302\u001b[0m, in \u001b[0;36m_lazy_call\u001b[0;34m(callable, **kwargs)\u001b[0m\n\u001b[1;32m    300\u001b[0m \u001b[38;5;28;01mwith\u001b[39;00m _initialization_lock:\n\u001b[1;32m    301\u001b[0m     \u001b[38;5;28;01mif\u001b[39;00m is_initialized():\n\u001b[0;32m--> 302\u001b[0m         \u001b[38;5;28;43mcallable\u001b[39;49m\u001b[43m(\u001b[49m\u001b[43m)\u001b[49m\n\u001b[1;32m    303\u001b[0m     \u001b[38;5;28;01melse\u001b[39;00m:\n\u001b[1;32m    304\u001b[0m         \u001b[38;5;66;03m# TODO(torch_deploy): this accesses linecache, which attempts to read the\u001b[39;00m\n\u001b[1;32m    305\u001b[0m         \u001b[38;5;66;03m# file system to get traceback info. Patch linecache or do something\u001b[39;00m\n\u001b[1;32m    306\u001b[0m         \u001b[38;5;66;03m# else here if this ends up being important.\u001b[39;00m\n\u001b[1;32m    307\u001b[0m         \u001b[38;5;28;01mglobal\u001b[39;00m _lazy_seed_tracker\n",
      "File \u001b[0;32m~/projects/honours-thesis/.venv/lib/python3.11/site-packages/torch/cuda/random.py:126\u001b[0m, in \u001b[0;36mmanual_seed_all.<locals>.cb\u001b[0;34m()\u001b[0m\n\u001b[1;32m    124\u001b[0m \u001b[38;5;28;01mfor\u001b[39;00m i \u001b[38;5;129;01min\u001b[39;00m \u001b[38;5;28mrange\u001b[39m(device_count()):\n\u001b[1;32m    125\u001b[0m     default_generator \u001b[38;5;241m=\u001b[39m torch\u001b[38;5;241m.\u001b[39mcuda\u001b[38;5;241m.\u001b[39mdefault_generators[i]\n\u001b[0;32m--> 126\u001b[0m     default_generator\u001b[38;5;241m.\u001b[39mmanual_seed(seed)\n",
      "\u001b[0;31mRuntimeError\u001b[0m: CUDA error: device-side assert triggered\nCompile with `TORCH_USE_CUDA_DSA` to enable device-side assertions.\n"
     ]
    }
   ],
   "source": [
    "results = []\n",
    "movies = seg_df.movie.unique()\n",
    "\n",
    "for curr_model, last_layer in unfreeze_layers.items():\n",
    "\n",
    "    logging.info(f'Curr Model: {curr_model}')\n",
    "        \n",
    "    tokenizer = AutoTokenizer.from_pretrained(curr_model)\n",
    "    enc_len = min(max_enc_len, tokenizer.model_max_length) - 5\n",
    "    agg_seg_df = da.aggregate_segments(seg_df, tokenizer, enc_len, max_seg_duration, max_break, excl_dialogue)\n",
    "    cat_seg_df = da.annotate_segments(agg_seg_df, gore_df, tokenizer)\n",
    "    tokens_w_context = da.add_context_and_tokenize(cat_seg_df, tokenizer, enc_len)\n",
    "\n",
    "    for movie in movies:\n",
    "        logging.info(f'Current Test Set: {movie}')    \n",
    "        train_ds, train_y = md.create_test_train_split(cat_seg_df, tokens_w_context, [x for x in movies if x != movie], tokenizer, enc_len)\n",
    "        test_ds, test_y = md.create_test_train_split(cat_seg_df, tokens_w_context, [movie], tokenizer, enc_len)\n",
    "\n",
    "        n_pos = train_y.sum()\n",
    "        pos_weight = torch.tensor([(train_y.shape[0] - n_pos) / n_pos], dtype=torch.float)\n",
    "        loss_fn = torch.nn.BCEWithLogitsLoss(pos_weight=pos_weight)\n",
    "\n",
    "        logging.getLogger(\"transformers.modeling_utils\").setLevel(logging.ERROR)\n",
    "        thawed_layers = [ii + 1 for ii in range(last_layer - num_layers, last_layer)]\n",
    "        model = md.CustomLossModel(enc_model, loss_fn, thawed_layers)\n",
    "        logging.getLogger(\"transformers.modeling_utils\").setLevel(logging.WARN)\n",
    "        \n",
    "        trainer = Trainer(\n",
    "            model=model,\n",
    "            args=training_args,\n",
    "            train_dataset=train_ds,\n",
    "            eval_dataset=test_ds,\n",
    "            compute_metrics=md.compute_metrics,\n",
    "            callbacks=[md.FractionalTrainEvalCallback]\n",
    "        )\n",
    "\n",
    "        # torch.cuda.empty_cache()\n",
    "        trainer.train()\n",
    "        \n",
    "        epoch = np.argmax([x for x in trainer.state.log_history if 'eval_recall' in x]) + 1\n",
    "        \n",
    "        curr_results = {\n",
    "            'model': curr_model,\n",
    "            'test_movie': movie,\n",
    "            'runtime': trainer.state.log_history[-1]['train_runtime'],\n",
    "            'epoch': epoch,\n",
    "            'recall': next(x for x in trainer.state.log_history if 'epoch' in x and x['epoch'] == epoch and 'eval_recall' in x),\n",
    "            'f1_macro': next(x for x in trainer.state.log_history if 'epoch' in x and x['epoch'] == epoch and 'eval_f1_macro' in x),\n",
    "        }\n",
    "        results.append(curr_results)"
   ]
  },
  {
   "cell_type": "code",
   "execution_count": null,
   "id": "41c4eeaf",
   "metadata": {},
   "outputs": [],
   "source": [
    "# Per Model\n",
    "# Per Movie\n",
    "# Pred Accuracy, TPR\n",
    "# Training Time\n",
    "# Epoch selected\n"
   ]
  },
  {
   "cell_type": "code",
   "execution_count": null,
   "id": "96e9eaae",
   "metadata": {},
   "outputs": [
    {
     "data": {
      "text/html": [],
      "text/plain": [
       "<IPython.core.display.HTML object>"
      ]
     },
     "metadata": {},
     "output_type": "display_data"
    }
   ],
   "source": [
    "train_preds = trainer.predict(train_ds)\n",
    "test_preds = trainer.predict(test_ds)"
   ]
  },
  {
   "cell_type": "code",
   "execution_count": null,
   "id": "d41d9cc2",
   "metadata": {},
   "outputs": [],
   "source": [
    "for name, param in model.named_parameters():\n",
    "    if not param.requires_grad:\n",
    "        print(f\"[FROZEN] {name}\")\n",
    "    else:\n",
    "        print(f\"[TRAINABLE] {name}\")"
   ]
  },
  {
   "cell_type": "code",
   "execution_count": null,
   "id": "b17848b9",
   "metadata": {},
   "outputs": [
    {
     "data": {
      "text/plain": [
       "<sklearn.metrics._plot.roc_curve.RocCurveDisplay at 0x7fa3539d74d0>"
      ]
     },
     "execution_count": 20,
     "metadata": {},
     "output_type": "execute_result"
    },
    {
     "data": {
      "image/png": "[encoded data removed]",
      "text/plain": [
       "<Figure size 640x480 with 1 Axes>"
      ]
     },
     "metadata": {},
     "output_type": "display_data"
    },
    {
     "data": {
      "image/png": "[encoded data removed]",
      "text/plain": [
       "<Figure size 640x480 with 1 Axes>"
      ]
     },
     "metadata": {},
     "output_type": "display_data"
    }
   ],
   "source": [
    "RocCurveDisplay.from_predictions(train_y, train_preds.predictions)\n",
    "RocCurveDisplay.from_predictions(test_y, test_preds.predictions)"
   ]
  }
 ],
 "metadata": {
  "kernelspec": {
   "display_name": "thesis",
   "language": "python",
   "name": "thesis"
  },
  "language_info": {
   "codemirror_mode": {
    "name": "ipython",
    "version": 3
   },
   "file_extension": ".py",
   "mimetype": "text/x-python",
   "name": "python",
   "nbconvert_exporter": "python",
   "pygments_lexer": "ipython3",
   "version": "3.11.10"
  }
 },
 "nbformat": 4,
 "nbformat_minor": 5
}
