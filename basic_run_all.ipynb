{
 "cells": [
  {
   "cell_type": "code",
   "execution_count": 1,
   "id": "5c47cdc4",
   "metadata": {},
   "outputs": [],
   "source": [
    "import logging\n",
    "logging.basicConfig(level=logging.INFO, format='%(levelname)s - %(asctime)s - %(message)s')\n",
    "\n",
    "import pandas as pd\n",
    "import numpy as np\n",
    "import matplotlib.pyplot as plt\n",
    "import whisper\n",
    "\n",
    "import tiktoken\n",
    "whisper_tokenizer = whisper.tokenizer.get_tokenizer(tiktoken.get_encoding(tiktoken.list_encoding_names()[-1]), num_languages=1)\n",
    "\n",
    "import json\n",
    "\n",
    "with open('config.json') as fileobj:\n",
    "    hf_token = json.load(fileobj)['hugging_face_token']\n",
    "\n",
    "import torch\n",
    "\n",
    "from sklearn.metrics import RocCurveDisplay, ConfusionMatrixDisplay, confusion_matrix\n",
    "\n",
    "from transformers import (\n",
    "    AutoTokenizer,\n",
    "    AutoModelForSequenceClassification,\n",
    "    Trainer,\n",
    "    TrainingArguments\n",
    ")\n",
    "\n",
    "import os\n",
    "\n",
    "from IPython.display import clear_output\n",
    "clear_output()\n",
    "\n",
    "import utils\n",
    "import data_extraction as da\n",
    "import modelling as md\n",
    "\n",
    "audio_dir = os.path.join('data', 'audio-vault')\n",
    "transcription_dir = os.path.join(audio_dir, 'transcriptions')\n",
    "diarization_dir = os.path.join(audio_dir, 'diarization_segments')\n",
    "\n",
    "vsd_dir = os.path.join('data', 'VSD', 'VSD2014_officialrelease', 'VSD_2014_December_official_release', 'Hollywood-dev')\n",
    "vsd_features_dir = os.path.join(vsd_dir, 'features')\n",
    "vsd_annotations_dir = os.path.join(vsd_dir, 'annotations')\n",
    "\n",
    "utils.ensure_dir_exists(transcription_dir)\n",
    "\n",
    "transcript_df_fp = '{movie_name}-transcript.parquet'\n",
    "\n",
    "max_break = 15 # seconds\n",
    "max_seg_duration = 60 # seconds\n",
    "\n",
    "batch_size = 16\n",
    "num_epochs = 3\n",
    "\n",
    "# enc_model = 'bert-large-uncased'\n",
    "enc_model = 'answerdotai/ModernBERT-large'\n",
    "whisper_model = 'turbo'\n",
    "\n",
    "# FIXME: Don't use full model window: 8,192 tokens\n",
    "# TODO: utilise bitsandbytes"
   ]
  },
  {
   "cell_type": "markdown",
   "id": "5847ad6c",
   "metadata": {},
   "source": [
    "### TODO:\n",
    "- Creatures are rarely described in detail but assumed that person views clips of them beforehand?"
   ]
  },
  {
   "cell_type": "code",
   "execution_count": 2,
   "id": "097440ce",
   "metadata": {},
   "outputs": [],
   "source": [
    "def calc_speed_ratio(first_annot, last_annot, last_seg):\n",
    "    return 1 + (last_seg - last_annot) / (last_annot - first_annot)\n",
    "\n",
    "movie_offsets = {\n",
    "    # Offset for first event, then multiplier for transcript speed differences\n",
    "    'PiratesOfTheCarribeanTheCurseOfTheBlackPearl': (95, calc_speed_ratio(1772, 7065, 7291)), # Fantasy\n",
    "    'SavingPrivateRyan': (14, calc_speed_ratio(663, 8907, 9263)), # War\n",
    "    'FightClub': (-162, calc_speed_ratio(2542, 7676, 7782)), # Modern\n",
    "    'IAmLegend': (2, 1), # Dystopian \n",
    "    'ReservoirDogs': (-13, calc_speed_ratio(565, 5490, 5465)) # Crime\n",
    "}"
   ]
  },
  {
   "cell_type": "code",
   "execution_count": 3,
   "id": "26afe069",
   "metadata": {},
   "outputs": [],
   "source": [
    "# Extract and tokenize subtitles for matching\n",
    "subs_dict = da.extract_subs()\n",
    "subs_df_list = []\n",
    "\n",
    "for movie, subs_df in subs_dict.items():\n",
    "    subs_df['dialogue'] = da.clean_dialogue(subs_df['raw_dialogue'])\n",
    "    subs_df['tokens'] = subs_df['dialogue'].apply(lambda x: whisper_tokenizer.encode(x))\n",
    "    subs_df['movie'] = movie\n",
    "    subs_df_list.append(subs_df)\n",
    "    \n",
    "subs_df = pd.concat(subs_df_list)"
   ]
  },
  {
   "cell_type": "code",
   "execution_count": 4,
   "id": "07a73bf8",
   "metadata": {},
   "outputs": [],
   "source": [
    "annotations_df = da.get_vsd_movie_annotations(vsd_annotations_dir, list(movie_offsets.keys()))\n",
    "gore_mask = annotations_df.annotation_cat.eq('gore')\n",
    "blood_mask = annotations_df.annotation_cat.eq('blood') & annotations_df.desc.isin(['low', 'medium', 'high'])\n",
    "gory_df = annotations_df[gore_mask | blood_mask].copy()\n",
    "gory_df['full_annotation_cat'] = gory_df['annotation_cat'] + '-' + gory_df['desc']\n",
    "gory_df = gory_df.drop(columns=['desc'])"
   ]
  },
  {
   "cell_type": "code",
   "execution_count": 5,
   "id": "5ff0eb45",
   "metadata": {},
   "outputs": [],
   "source": [
    "# Convert from 25 fps to seconds, and add ARBITRARY offset based on observation (movies out of sync)\n",
    "gory_df[['start_sec', 'end_sec']] = gory_df[['start', 'finish']] / 25\n",
    "\n",
    "gory_df = da.convert_time_to_readable_txt(gory_df, [('start_sec', 'start_txt'), ('end_sec', 'end_txt')])\n",
    "# Buffering start and finish 1 second either side (no need to be precise)\n",
    "gory_df['start_sec'] -= 1\n",
    "gory_df['end_sec'] += 1\n",
    "gory_df['seg_duration'] = gory_df['end_sec'] - gory_df['start_sec'] "
   ]
  },
  {
   "cell_type": "code",
   "execution_count": 6,
   "id": "d6488476",
   "metadata": {},
   "outputs": [],
   "source": [
    "seg_df = da.get_segments(transcription_dir, gory_df['movie'].unique(), transcript_df_fp, whisper_tokenizer)\n",
    "seg_df['duration'] = seg_df['end'] - seg_df['start']\n",
    "\n",
    "gory_df = gory_df.sort_values('start')\n",
    "\n",
    "# Add individual offsets to align each movie with audio recording\n",
    "for movie, (offset, ratio) in movie_offsets.items():\n",
    "    vec = seg_df.loc[seg_df.movie.eq(movie), ['start']]\n",
    "    first_annot = gory_df['start_sec'][gory_df.movie.eq(movie)].iloc[0]\n",
    "    seg_df.loc[seg_df.movie.eq(movie), ['start']] = first_annot + (vec - offset - first_annot) / ratio\n",
    "\n",
    "seg_df['end'] = seg_df['start'] + seg_df['duration']\n",
    "\n",
    "seg_df = da.convert_time_to_readable_txt(seg_df, [('start', 'start_txt'), ('end', 'end_txt')])"
   ]
  },
  {
   "cell_type": "code",
   "execution_count": 7,
   "id": "722e66fa",
   "metadata": {},
   "outputs": [],
   "source": [
    "tokenizer = AutoTokenizer.from_pretrained(enc_model)\n",
    "seg_df['num_tokens'] = [len(x) for x in tokenizer(list(seg_df['text']))['input_ids']]\n",
    "seg_df = seg_df.sort_values(['movie', 'start'])"
   ]
  },
  {
   "cell_type": "code",
   "execution_count": 8,
   "id": "a18bd425",
   "metadata": {},
   "outputs": [],
   "source": [
    "agg_rows_list = []\n",
    "prev_row = dict(seg_df.iloc[0])\n",
    "\n",
    "for row in seg_df.iloc[1:].to_dict(orient=\"records\"):\n",
    "    \n",
    "    is_under_token_limit = (prev_row['num_tokens'] + row['num_tokens']) < tokenizer.model_max_length - 5\n",
    "    is_under_duration_limit = (row['end'] - prev_row['start']) < max_seg_duration\n",
    "    is_under_max_break = (row['start'] - prev_row['end']) < max_break\n",
    "    is_same_speaker = prev_row['movie'] == row['movie'] and prev_row['speaker'] == row['speaker'] \n",
    "    \n",
    "    if all((is_same_speaker, is_under_max_break, is_under_duration_limit, is_under_token_limit)):\n",
    "        prev_row['end_txt'] = row['end_txt']\n",
    "        prev_row['duration'] += row['duration']\n",
    "        prev_row['text'] += (' ' + row['text'])\n",
    "        prev_row['end'] = row['end']\n",
    "        prev_row['num_tokens'] += row['num_tokens']\n",
    "        \n",
    "    else:\n",
    "        agg_rows_list.append(prev_row)\n",
    "        prev_row = row.copy()\n",
    "    \n",
    "agg_seg_df = pd.DataFrame.from_records(agg_rows_list).sort_values(['movie', 'start']).reset_index(drop=True)"
   ]
  },
  {
   "cell_type": "code",
   "execution_count": 9,
   "id": "5c22562b",
   "metadata": {},
   "outputs": [],
   "source": [
    "# Mark each segment as containing gore by looping through all the gory annotations\n",
    "agg_seg_df['has_gore'] = False\n",
    "agg_seg_df['has_blood'] = False\n",
    "agg_seg_df['blood_cat'] = pd.NA\n",
    "\n",
    "agg_seg_df['gore_start'] = -1 \n",
    "agg_seg_df['gore_end'] = -1 \n",
    "\n",
    "agg_seg_df['blood_start'] = -1 \n",
    "agg_seg_df['blood_end'] = -1 \n",
    "\n",
    "seg_df_list = []\n",
    "\n",
    "for movie in gory_df.movie.unique():\n",
    "    \n",
    "    curr_gory_df = gory_df[gory_df.movie.eq(movie)].copy()\n",
    "    curr_seg_df = agg_seg_df[agg_seg_df.movie.eq(movie)].copy()\n",
    "    \n",
    "    for ii in range(curr_gory_df.shape[0]):\n",
    "        \n",
    "        cat = 'gore' if 'gore' in curr_gory_df['annotation_cat'].iloc[ii] else 'blood'\n",
    "        \n",
    "        # Identify any segments that overlap with gory segment\n",
    "        anot_start_after_seg = curr_seg_df.start > curr_gory_df['end_sec'].iloc[ii]\n",
    "        seg_end_before_anot = curr_seg_df.end < curr_gory_df['start_sec'].iloc[ii]\n",
    "        curr_anot_mask = np.logical_not(anot_start_after_seg | seg_end_before_anot)\n",
    "        \n",
    "        if sum(curr_anot_mask) > 0:\n",
    "            curr_seg_df[f'{cat}_start'] = np.where(curr_anot_mask, curr_gory_df['start_sec'].iloc[ii], curr_seg_df[f'{cat}_start'])\n",
    "            curr_seg_df[f'{cat}_end'] = np.where(curr_anot_mask, curr_gory_df['end_sec'].iloc[ii], curr_seg_df[f'{cat}_end'])\n",
    "            \n",
    "            curr_seg_df[f'has_{cat}'] = curr_seg_df[f'has_{cat}'] | curr_anot_mask\n",
    "            \n",
    "            if cat == 'blood':\n",
    "                curr_seg_df['blood_cat'] = np.where(curr_anot_mask, curr_gory_df['full_annotation_cat'].iloc[ii], curr_seg_df['blood_cat'])\n",
    "                \n",
    "        # No overlap, so find closest segment   \n",
    "        else:\n",
    "            annot_midpoint = (curr_gory_df['start_sec'].iloc[ii] + curr_gory_df['end_sec'].iloc[ii]) / 2\n",
    "            closest_start_idx = next(iter(curr_seg_df.start[curr_seg_df.start > annot_midpoint].index), None)\n",
    "            closest_start = abs(curr_seg_df.start[closest_start_idx] - annot_midpoint) if closest_start_idx else curr_seg_df.end.iloc[-1]\n",
    "            closest_end_idx = max(0, closest_start_idx - 1) if closest_start_idx else curr_seg_df.index[-1]\n",
    "            closest_end = abs(curr_seg_df.end[closest_end_idx] - annot_midpoint) if closest_end_idx else curr_seg_df.end.iloc[-1]\n",
    "            \n",
    "            closest_seg_idx = closest_end_idx\n",
    "            \n",
    "            if closest_start is not None and closest_end is not None and closest_start < closest_end:\n",
    "                closest_seg_idx = closest_start_idx\n",
    "                \n",
    "            curr_seg_df[f'{cat}_start'][closest_seg_idx] = curr_gory_df['start_sec'].iloc[ii]\n",
    "            curr_seg_df[f'{cat}_end'][closest_seg_idx] = curr_gory_df['end_sec'].iloc[ii]\n",
    "            \n",
    "            curr_seg_df[f'has_{cat}'][closest_seg_idx] = True\n",
    "            \n",
    "            if cat == 'blood':\n",
    "                curr_seg_df['blood_cat'][closest_seg_idx] = curr_gory_df['full_annotation_cat'].iloc[ii]\n",
    "                \n",
    "    seg_df_list.append(curr_seg_df)\n",
    "    \n",
    "cat_seg_df = pd.concat(seg_df_list).reset_index(drop=True)\n",
    "\n",
    "# Hide warnings that think I don't understand how copying works\n",
    "clear_output()"
   ]
  },
  {
   "cell_type": "code",
   "execution_count": 10,
   "id": "bac5aebb",
   "metadata": {},
   "outputs": [],
   "source": [
    "cat_seg_df['cat'] = np.select(\n",
    "    [cat_seg_df['has_gore'] | cat_seg_df['blood_cat'].isin(['blood-high', 'blood-medium']), cat_seg_df.has_blood],\n",
    "    ['gore', 'blood'],\n",
    "    default='neutral'\n",
    ")"
   ]
  },
  {
   "cell_type": "code",
   "execution_count": 11,
   "id": "40c642b9",
   "metadata": {},
   "outputs": [],
   "source": [
    "cat_seg_df['tokens'] = tokenizer(list(cat_seg_df['text']), add_special_tokens=False)['input_ids']\n",
    "tokens_w_context = []\n",
    "\n",
    "token_limit = tokenizer.model_max_length - 1\n",
    "\n",
    "for ii in range(cat_seg_df.shape[0]):\n",
    "    context_len = (token_limit - cat_seg_df['num_tokens'][ii]) // 2\n",
    "    prev_seg = tokenizer.decode(cat_seg_df['tokens'][ii - 1][-context_len:]) if ii > 0 else ''\n",
    "    next_seg = tokenizer.decode(cat_seg_df['tokens'][ii + 1][:context_len]) if ii < cat_seg_df.shape[0] - 1 else ''\n",
    "    tokens_w_context.append('[CLS]' + prev_seg + '[SEP]' + tokenizer.decode(cat_seg_df['tokens'][ii]) + '[SEP]' + next_seg)"
   ]
  },
  {
   "cell_type": "code",
   "execution_count": 12,
   "id": "e140f008",
   "metadata": {},
   "outputs": [],
   "source": [
    "# TODO: Inject a flag into the model indicating how much context was included"
   ]
  },
  {
   "cell_type": "code",
   "execution_count": 13,
   "id": "8c86225d",
   "metadata": {},
   "outputs": [],
   "source": [
    "from typing import List "
   ]
  },
  {
   "cell_type": "code",
   "execution_count": 14,
   "id": "fe175828",
   "metadata": {},
   "outputs": [],
   "source": [
    "def create_test_train_split(tokenized_input, movie_list: List[str], tokenizer):\n",
    "    set_mask = cat_seg_df['movie'].isin(movie_list)\n",
    "    set_enc = tokenizer([txt for in_set, txt in zip(set_mask, tokenized_input) if in_set], add_special_tokens=False, padding=True)\n",
    "    set_y = cat_seg_df['has_gore'][set_mask]\n",
    "\n",
    "    ds = md.AudioSegDataset(set_enc, set_y)\n",
    "    \n",
    "    return ds, set_y "
   ]
  },
  {
   "cell_type": "code",
   "execution_count": 15,
   "id": "91b965cc",
   "metadata": {},
   "outputs": [],
   "source": [
    "# total_training_steps = (len(train_y) // batch_size) * num_epochs\n",
    "# quarter_epoch_steps = (total_training_steps // num_epochs) // 4\n",
    "\n",
    "training_args = TrainingArguments(\n",
    "    num_train_epochs=num_epochs,\n",
    "    fp16=True,\n",
    "    weight_decay=0.01,\n",
    "    \n",
    "    eval_strategy='epoch',\n",
    "    # eval_steps=quarter_epoch_steps,\n",
    "    logging_strategy=\"epoch\",         \n",
    "    # logging_steps=quarter_epoch_steps,\n",
    "    per_device_train_batch_size=batch_size,\n",
    "    per_device_eval_batch_size=batch_size,\n",
    "    \n",
    "    output_dir=\"./results\",\n",
    "    logging_dir=\"./logs\",\n",
    "    report_to=\"none\"\n",
    ")\n"
   ]
  },
  {
   "cell_type": "code",
   "execution_count": 16,
   "id": "b3417e30",
   "metadata": {},
   "outputs": [],
   "source": [
    "# from peft import get_peft_model, LoraConfig, TaskType\n",
    "# from transformers import AutoModelForSequenceClassification\n",
    "\n",
    "# base_model = AutoModelForSequenceClassification.from_pretrained(enc_model, num_labels=1)\n",
    "\n",
    "# lora_config = LoraConfig(\n",
    "#     r=8,\n",
    "#     lora_alpha=16,\n",
    "#     target_modules=[\"query\", \"value\"],  # key attention layers\n",
    "#     lora_dropout=0.1,\n",
    "#     bias=\"none\",\n",
    "#     task_type=TaskType.SEQ_CLS\n",
    "# )\n",
    "\n",
    "# model = get_peft_model(base_model, lora_config)\n",
    "\n"
   ]
  },
  {
   "cell_type": "code",
   "execution_count": null,
   "id": "b2664041",
   "metadata": {},
   "outputs": [
    {
     "name": "stderr",
     "output_type": "stream",
     "text": [
      "INFO - 2025-05-21 22:43:30,770 - Current Test Set: SavingPrivateRyan\n"
     ]
    },
    {
     "data": {
      "text/html": [
       "\n",
       "    <div>\n",
       "      \n",
       "      <progress value='5' max='921' style='width:300px; height:20px; vertical-align: middle;'></progress>\n",
       "      [  5/921 00:05 < 30:16, 0.50 it/s, Epoch 0.01/3]\n",
       "    </div>\n",
       "    <table border=\"1\" class=\"dataframe\">\n",
       "  <thead>\n",
       " <tr style=\"text-align: left;\">\n",
       "      <th>Epoch</th>\n",
       "      <th>Training Loss</th>\n",
       "      <th>Validation Loss</th>\n",
       "    </tr>\n",
       "  </thead>\n",
       "  <tbody>\n",
       "  </tbody>\n",
       "</table><p>"
      ],
      "text/plain": [
       "<IPython.core.display.HTML object>"
      ]
     },
     "metadata": {},
     "output_type": "display_data"
    }
   ],
   "source": [
    "movies = cat_seg_df.movie.unique()\n",
    "for movie in movies:\n",
    "    logging.info(f'Current Test Set: {movie}')    \n",
    "    train_ds, train_y = create_test_train_split(tokens_w_context, [x for x in movies if x != movie], tokenizer)\n",
    "    test_ds, test_y = create_test_train_split(tokens_w_context, [movie], tokenizer)\n",
    "\n",
    "    n_pos = train_y.sum()\n",
    "    pos_weight = torch.tensor([(train_y.shape[0] - n_pos) / n_pos], dtype=torch.float)\n",
    "    loss_fn = torch.nn.BCEWithLogitsLoss(pos_weight=pos_weight)\n",
    "\n",
    "    logging.getLogger(\"transformers.modeling_utils\").setLevel(logging.ERROR)\n",
    "    model = md.CustomLossModel(enc_model, loss_fn, [ii for ii in range(26, 29)])\n",
    "    logging.getLogger(\"transformers.modeling_utils\").setLevel(logging.WARN)\n",
    "    \n",
    "    for name, param in model.named_parameters():\n",
    "        if not param.requires_grad:\n",
    "            print(f\"[FROZEN] {name}\")\n",
    "        else:\n",
    "            print(f\"[TRAINABLE] {name}\")\n",
    "\n",
    "    trainer = Trainer(\n",
    "        model=model,\n",
    "        args=training_args,\n",
    "        train_dataset=train_ds,\n",
    "        eval_dataset=test_ds,\n",
    "        compute_metrics=md.compute_metrics,\n",
    "        callbacks=[md.FractionalTrainEvalCallback]\n",
    "    )\n",
    "\n",
    "    torch.cuda.empty_cache()\n",
    "    trainer.train()"
   ]
  },
  {
   "cell_type": "code",
   "execution_count": null,
   "id": "96e9eaae",
   "metadata": {},
   "outputs": [
    {
     "data": {
      "text/html": [],
      "text/plain": [
       "<IPython.core.display.HTML object>"
      ]
     },
     "metadata": {},
     "output_type": "display_data"
    }
   ],
   "source": [
    "train_preds = trainer.predict(train_ds)"
   ]
  },
  {
   "cell_type": "code",
   "execution_count": null,
   "id": "b17848b9",
   "metadata": {},
   "outputs": [
    {
     "data": {
      "text/plain": [
       "<sklearn.metrics._plot.roc_curve.RocCurveDisplay at 0x7f3b000dc890>"
      ]
     },
     "execution_count": 20,
     "metadata": {},
     "output_type": "execute_result"
    },
    {
     "data": {
      "image/png": "[encoded data removed]",
      "text/plain": [
       "<Figure size 640x480 with 1 Axes>"
      ]
     },
     "metadata": {},
     "output_type": "display_data"
    }
   ],
   "source": [
    "RocCurveDisplay.from_predictions(train_y, train_preds.predictions)"
   ]
  }
 ],
 "metadata": {
  "kernelspec": {
   "display_name": "thesis",
   "language": "python",
   "name": "thesis"
  },
  "language_info": {
   "codemirror_mode": {
    "name": "ipython",
    "version": 3
   },
   "file_extension": ".py",
   "mimetype": "text/x-python",
   "name": "python",
   "nbconvert_exporter": "python",
   "pygments_lexer": "ipython3",
   "version": "3.11.10"
  }
 },
 "nbformat": 4,
 "nbformat_minor": 5
}
