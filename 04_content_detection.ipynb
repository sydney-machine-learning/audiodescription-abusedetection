{
 "cells": [
  {
   "cell_type": "code",
   "execution_count": 1,
   "id": "d1719bf8",
   "metadata": {},
   "outputs": [
    {
     "name": "stderr",
     "output_type": "stream",
     "text": [
      "[nltk_data] Downloading package stopwords to\n",
      "[nltk_data]     /home/eye4got/nltk_data...\n",
      "[nltk_data]   Package stopwords is already up-to-date!\n"
     ]
    }
   ],
   "source": [
    "import logging\n",
    "logging.basicConfig(level=logging.INFO, format='%(levelname)s - %(asctime)s - %(message)s')\n",
    "\n",
    "import pandas as pd\n",
    "import matplotlib.pyplot as plt\n",
    "import seaborn as sns\n",
    "\n",
    "from transformers import (\n",
    "    AutoModelForSequenceClassification,\n",
    "    AutoTokenizer\n",
    ")\n",
    "\n",
    "import torch\n",
    "\n",
    "device = torch.device(\"cuda\")\n",
    "\n",
    "from torch.utils.data import DataLoader\n",
    "from transformers import DataCollatorWithPadding\n",
    "\n",
    "import os\n",
    "\n",
    "from IPython.display import clear_output\n",
    "\n",
    "import data_extraction as da\n",
    "import modelling as md\n",
    "\n",
    "from typing import List\n",
    "\n",
    "sensitive_model_name = 'cardiffnlp/twitter-roberta-large-sensitive-multilabel'"
   ]
  },
  {
   "cell_type": "code",
   "execution_count": null,
   "id": "6eeeec7b",
   "metadata": {},
   "outputs": [],
   "source": [
    "# TODO: extract probabilities and ignore profanity, spam etc labels\n",
    "# TODO: fix timestamps issues with diarization and then align automatically?\n",
    "# TODO: aggregate + split text chunks using timestamps\n",
    "\n",
    "# Categories:\n",
    "# - themes\n",
    "# - violence\n",
    "# - drug use\n",
    "# - sex \n",
    "\n",
    "# - nudity (ignore as also easy image classification problem)\n",
    "# - language (keyword search after STT, might be relevant given limit of data on Movie CER)\n"
   ]
  },
  {
   "cell_type": "code",
   "execution_count": 3,
   "id": "1ead1bcf",
   "metadata": {},
   "outputs": [],
   "source": [
    "sens_model = AutoModelForSequenceClassification.from_pretrained(sensitive_model_name)\n",
    "tokenizer = AutoTokenizer.from_pretrained(sensitive_model_name)\n",
    "sens_model.to(device)\n",
    "sens_model.eval()\n",
    "clear_output()"
   ]
  },
  {
   "cell_type": "code",
   "execution_count": 4,
   "id": "3b8c3352",
   "metadata": {},
   "outputs": [],
   "source": [
    "trans_df = pd.read_parquet(da.all_transcripts_df_dir)\n",
    "subs_df = pd.read_parquet(da.sub_df_dir)\n",
    "\n",
    "subs_df['movie'] = subs_df['movie'].str.title()\n",
    "trans_df['movie_name'] = trans_df['movie_name'].str.title()\n",
    "\n",
    "filtered_subs_df = subs_df[subs_df.movie.isin(trans_df['movie_name'].unique())].copy().reset_index(drop=True)\n",
    "red_trans_df = trans_df[trans_df.text.ne(' Thank you.')].copy().reset_index(drop=True)\n",
    "\n",
    "# trans_text_enc = tokenizer(list(red_trans_df['text']), truncation=True, padding=True) # padding=True, return_tensors=\"pt\"\n",
    "# subs_text_enc = tokenizer(list(filtered_subs_df['raw_dialogue']), truncation=True, padding=True, return_tensors=\"pt\")"
   ]
  },
  {
   "cell_type": "code",
   "execution_count": 5,
   "id": "e282e8f2",
   "metadata": {},
   "outputs": [],
   "source": [
    "op_sub_df = filtered_subs_df[filtered_subs_df.movie.eq('Oppenheimer')].copy()\n",
    "op_trans_df = red_trans_df[red_trans_df.movie_name.eq('Oppenheimer')].copy()"
   ]
  },
  {
   "cell_type": "code",
   "execution_count": 6,
   "id": "47ea6652",
   "metadata": {},
   "outputs": [],
   "source": [
    "vad_df = pd.read_parquet(os.path.join(da.voice_activity_dir, 'Oppenheimer-vad.parquet'))\n",
    "diaz_df = pd.read_parquet(os.path.join(da.diarization_dir, 'Oppenheimer-diarization.parquet'))\n",
    "\n",
    "op_sub_df['start_time'].dt.total_seconds().min(), op_sub_df['end_time'].dt.total_seconds().max()\n",
    "op_trans_df['start'].min(), op_trans_df['end'].max()\n",
    "\n",
    "vad_df['duration'] = vad_df['end'] - vad_df['start']\n",
    "vad_df['running_time'] = vad_df['duration'].cumsum()"
   ]
  },
  {
   "cell_type": "code",
   "execution_count": 7,
   "id": "336bfc25",
   "metadata": {},
   "outputs": [],
   "source": [
    "def split_long_texts(texts, tokenizer):\n",
    "    output = []\n",
    "    for text in texts:\n",
    "        tokens = tokenizer.encode(text, add_special_tokens=False)\n",
    "        if len(tokens) <= tokenizer.model_max_length:\n",
    "            output.append(text)\n",
    "        else:\n",
    "            # Split and decode chunks\n",
    "            chunks = [tokens[i:i+tokenizer.model_max_length] for i in range(0, len(tokens), tokenizer.model_max_length)]\n",
    "            decoded = [tokenizer.decode(chunk, skip_special_tokens=True) for chunk in chunks]\n",
    "            output.extend(decoded)\n",
    "    return output"
   ]
  },
  {
   "cell_type": "code",
   "execution_count": 8,
   "id": "12037eee",
   "metadata": {},
   "outputs": [
    {
     "name": "stderr",
     "output_type": "stream",
     "text": [
      "Token indices sequence length is longer than the specified maximum sequence length for this model (523 > 512). Running this sequence through the model will result in indexing errors\n"
     ]
    }
   ],
   "source": [
    "output = split_long_texts(red_trans_df['text'].to_list(), tokenizer)"
   ]
  },
  {
   "cell_type": "code",
   "execution_count": 13,
   "id": "d73e571b",
   "metadata": {},
   "outputs": [
    {
     "name": "stderr",
     "output_type": "stream",
     "text": [
      "INFO - 2025-06-10 17:14:38,881 - 0\t / 302\n",
      "INFO - 2025-06-10 17:14:55,471 - 20\t / 302\n",
      "INFO - 2025-06-10 17:15:12,803 - 40\t / 302\n",
      "INFO - 2025-06-10 17:15:35,498 - 60\t / 302\n",
      "INFO - 2025-06-10 17:17:03,243 - 80\t / 302\n",
      "INFO - 2025-06-10 17:18:22,384 - 100\t / 302\n",
      "INFO - 2025-06-10 17:19:24,289 - 120\t / 302\n",
      "INFO - 2025-06-10 17:19:57,000 - 140\t / 302\n",
      "INFO - 2025-06-10 17:20:13,045 - 160\t / 302\n",
      "INFO - 2025-06-10 17:20:33,006 - 180\t / 302\n",
      "INFO - 2025-06-10 17:20:54,931 - 200\t / 302\n",
      "INFO - 2025-06-10 17:21:13,539 - 220\t / 302\n",
      "INFO - 2025-06-10 17:21:34,308 - 240\t / 302\n",
      "INFO - 2025-06-10 17:23:09,275 - 260\t / 302\n",
      "INFO - 2025-06-10 17:24:50,005 - 280\t / 302\n",
      "INFO - 2025-06-10 17:26:08,980 - 300\t / 302\n"
     ]
    }
   ],
   "source": [
    "tokenized_samples = [tokenizer(t, truncation=True, return_tensors=None) for t in list(red_trans_df[\"text\"])]\n",
    "data_collator = DataCollatorWithPadding(tokenizer=tokenizer, return_tensors=\"pt\", padding=True)\n",
    "loader = DataLoader(tokenized_samples, batch_size=32, collate_fn=data_collator)\n",
    "\n",
    "trans_preds = []\n",
    "\n",
    "for ii, batch in enumerate(loader):\n",
    "    if ii % 20 == 0:\n",
    "        logging.info(f'{ii}\\t / {len(loader)}')\n",
    "    batch = {k: v.to(device) for k, v in batch.items()}\n",
    "    with torch.no_grad():\n",
    "        outputs = sens_model(**batch)\n",
    "        trans_preds.append(torch.argmax(outputs.logits, dim=-1))\n",
    "\n",
    "# tokenized_samples = [tokenizer(t, truncation=True, return_tensors=None) for t in list(filtered_subs_df[\"raw_dialogue\"])]\n",
    "# data_collator = DataCollatorWithPadding(tokenizer=tokenizer, return_tensors=\"pt\", padding=True)\n",
    "# loader = DataLoader(tokenized_samples, batch_size=32, collate_fn=data_collator)\n",
    "\n",
    "# subs_preds = []\n",
    "\n",
    "# for ii, batch in enumerate(loader):\n",
    "#     if ii % 20 == 0:\n",
    "#         logging.info(f'{ii}\\t / {len(loader)}')\n",
    "#     batch = {k: v.to(device) for k, v in batch.items()}\n",
    "#     with torch.no_grad():\n",
    "#         outputs = sens_model(**batch)\n",
    "#         subs_preds.append(torch.argmax(outputs.logits, dim=-1))"
   ]
  },
  {
   "cell_type": "code",
   "execution_count": 14,
   "id": "df6ad48b",
   "metadata": {},
   "outputs": [],
   "source": [
    "# filtered_subs_df['sens_class'] = [y.item() for x in subs_preds for y in x]\n",
    "red_trans_df['sens_class'] = [y.item() for x in trans_preds for y in x]"
   ]
  },
  {
   "cell_type": "code",
   "execution_count": 15,
   "id": "9e440738",
   "metadata": {},
   "outputs": [],
   "source": [
    "id2label = {\n",
    "  \"0\": \"conflictual\",\n",
    "  \"1\": \"profanity\",\n",
    "  \"2\": \"sex\",\n",
    "  \"3\": \"drugs\",\n",
    "  \"4\": \"selfharm\",\n",
    "  \"5\": \"spam\",\n",
    "  \"6\": \"not-sensitive\"\n",
    "}\n",
    "\n",
    "# filtered_subs_df['sens_class_label'] = filtered_subs_df['sens_class'].astype(str).map(id2label)\n",
    "red_trans_df['sens_class_label'] = red_trans_df['sens_class'].astype(str).map(id2label)"
   ]
  },
  {
   "cell_type": "code",
   "execution_count": 16,
   "id": "d7666915",
   "metadata": {},
   "outputs": [],
   "source": [
    "# filtered_subs_df.to_parquet(os.path.join('data', 'filtered_subs_w_sens_classes.parquet'))\n",
    "red_trans_df.to_parquet(os.path.join('data', 'trans_w_sens_classes.parquet'))"
   ]
  },
  {
   "cell_type": "code",
   "execution_count": null,
   "id": "752cd7ad",
   "metadata": {},
   "outputs": [],
   "source": [
    "filtered_subs_df['type'] = 'subtitle'\n",
    "red_trans_df['type'] = 'transcript'"
   ]
  },
  {
   "cell_type": "code",
   "execution_count": null,
   "id": "d65a4e5f",
   "metadata": {},
   "outputs": [
    {
     "data": {
      "text/plain": [
       "<Axes: xlabel='sens_class_label', ylabel='count'>"
      ]
     },
     "execution_count": 53,
     "metadata": {},
     "output_type": "execute_result"
    },
    {
     "data": {
      "image/png": "[encoded data removed]",
      "text/plain": [
       "<Figure size 640x480 with 1 Axes>"
      ]
     },
     "metadata": {},
     "output_type": "display_data"
    }
   ],
   "source": [
    "full_df = pd.concat([filtered_subs_df[['sens_class_label', 'type']], red_trans_df[['sens_class_label', 'type']]])\n",
    "full_df = full_df[full_df.sens_class_label.ne('not-sensitive')]\n",
    "counts_df = full_df.groupby('type').sens_class_label.value_counts().reset_index()\n",
    "\n",
    "sns.barplot(counts_df, x='sens_class_label', y='count', hue='type')"
   ]
  },
  {
   "cell_type": "code",
   "execution_count": 54,
   "id": "a34cd993",
   "metadata": {},
   "outputs": [
    {
     "data": {
      "text/plain": [
       "<Axes: xlabel='sens_class_label', ylabel='count'>"
      ]
     },
     "execution_count": 54,
     "metadata": {},
     "output_type": "execute_result"
    },
    {
     "data": {
      "image/png": "[encoded data removed]",
      "text/plain": [
       "<Figure size 640x480 with 1 Axes>"
      ]
     },
     "metadata": {},
     "output_type": "display_data"
    }
   ],
   "source": [
    "full_df = pd.concat([filtered_subs_df[['sens_class_label', 'type']], red_trans_df[['sens_class_label', 'type']]])\n",
    "full_df = full_df[~full_df.sens_class_label.isin(['not-sensitive', 'profanity'])]\n",
    "counts_df = full_df.groupby('type').sens_class_label.value_counts().reset_index()\n",
    "\n",
    "sns.barplot(counts_df, x='sens_class_label', y='count', hue='type')"
   ]
  },
  {
   "cell_type": "code",
   "execution_count": 56,
   "id": "90acfb52",
   "metadata": {},
   "outputs": [],
   "source": [
    "hate_model_name = 'GroNLP/hateBERT'\n",
    "hate_model = AutoModelForSequenceClassification.from_pretrained(hate_model_name)\n",
    "tokenizer = AutoTokenizer.from_pretrained(hate_model_name)\n",
    "hate_model.to(device)\n",
    "hate_model.eval()\n",
    "clear_output()"
   ]
  },
  {
   "cell_type": "code",
   "execution_count": 60,
   "id": "c62572e8",
   "metadata": {},
   "outputs": [],
   "source": [
    "from torch.utils.data import DataLoader, Dataset\n",
    "class SubtitleDataset(Dataset):\n",
    "    def __init__(self, texts):\n",
    "        self.texts = texts\n",
    "\n",
    "    def __len__(self):\n",
    "        return len(self.texts)\n",
    "\n",
    "    def __getitem__(self, idx):\n",
    "        return self.texts[idx]\n",
    "    \n",
    "    \n",
    "def predict_abusive_language_batch(model, tokenizer, texts, batch_size=32):\n",
    "    dataset = SubtitleDataset(texts)\n",
    "    dataloader = DataLoader(dataset, batch_size=batch_size, shuffle=False)\n",
    "    results = []\n",
    "\n",
    "    model.eval()\n",
    "    with torch.no_grad():\n",
    "        for batch in dataloader:\n",
    "            batch = [str(text) for text in batch]  \n",
    "            inputs = tokenizer(batch, return_tensors=\"pt\", truncation=True, padding=True).to(device)\n",
    "            outputs = model(**inputs)\n",
    "            logits = outputs.logits\n",
    "            probabilities = torch.softmax(logits, dim=-1)\n",
    "            results.extend(probabilities.cpu().numpy())\n",
    "\n",
    "    return results\n",
    "\n",
    "\n",
    "def classify_abusive_language_batch(model, tokenizer, texts, threshold=0.5, batch_size=32):\n",
    "    probabilities = predict_abusive_language_batch(model, tokenizer, texts, batch_size=batch_size)\n",
    "    classifications = []\n",
    "    for prob in probabilities:\n",
    "        abusive_probability = prob[1]\n",
    "        if abusive_probability > threshold:\n",
    "            classifications.append((\"Abusive Language\", abusive_probability))\n",
    "        else:\n",
    "            classifications.append((\"Non-Abusive Language\", abusive_probability))\n",
    "    return classifications"
   ]
  },
  {
   "cell_type": "code",
   "execution_count": 100,
   "id": "f4254184",
   "metadata": {},
   "outputs": [],
   "source": [
    "texts = red_trans_df['text'].tolist()\n",
    "trans_results = classify_abusive_language_batch(hate_model, tokenizer, texts, batch_size=32)\n",
    "subs_results = classify_abusive_language_batch(hate_model, tokenizer, filtered_subs_df['raw_dialogue'].tolist(), batch_size=32)"
   ]
  },
  {
   "cell_type": "code",
   "execution_count": 104,
   "id": "8fbd2205",
   "metadata": {},
   "outputs": [],
   "source": [
    "copy_red_trans_df = red_trans_df.copy()\n",
    "copy_subs_df = filtered_subs_df.copy()"
   ]
  },
  {
   "cell_type": "code",
   "execution_count": 157,
   "id": "b7ba647c",
   "metadata": {},
   "outputs": [],
   "source": [
    "red_trans_df['hate_class'] = [x[0] for x in trans_results]\n",
    "red_trans_df['hate_prob'] = [x[1] for x in trans_results]\n",
    "\n",
    "filtered_subs_df['hate_class'] = [x[0] for x in subs_results]\n",
    "filtered_subs_df['hate_prob'] = [x[1] for x in subs_results]"
   ]
  },
  {
   "cell_type": "code",
   "execution_count": 141,
   "id": "8153178f",
   "metadata": {},
   "outputs": [],
   "source": [
    "trans_counts_df = copy_red_trans_df.groupby('movie_name')['classification'].value_counts().reset_index().rename(columns={'movie_name': 'movie'})\n",
    "trans_counts_df['type'] = 'Transcripts'\n",
    "subs_counts_df = copy_subs_df.groupby('movie')['classification'].value_counts().reset_index()\n",
    "subs_counts_df['type'] = 'Subtitles'\n",
    "\n",
    "full_counts_df = pd.concat([trans_counts_df, subs_counts_df])"
   ]
  },
  {
   "cell_type": "code",
   "execution_count": 1,
   "id": "6662bd37",
   "metadata": {},
   "outputs": [
    {
     "ename": "NameError",
     "evalue": "name 'full_counts_df' is not defined",
     "output_type": "error",
     "traceback": [
      "\u001b[0;31m---------------------------------------------------------------------------\u001b[0m",
      "\u001b[0;31mNameError\u001b[0m                                 Traceback (most recent call last)",
      "Cell \u001b[0;32mIn[1], line 1\u001b[0m\n\u001b[0;32m----> 1\u001b[0m df \u001b[38;5;241m=\u001b[39m \u001b[43mfull_counts_df\u001b[49m[full_counts_df\u001b[38;5;241m.\u001b[39mclassification\u001b[38;5;241m.\u001b[39meq(\u001b[38;5;124m'\u001b[39m\u001b[38;5;124mAbusive Language\u001b[39m\u001b[38;5;124m'\u001b[39m)]\n\u001b[1;32m      3\u001b[0m fig, (ax1, ax2) \u001b[38;5;241m=\u001b[39m plt\u001b[38;5;241m.\u001b[39msubplots(\u001b[38;5;241m1\u001b[39m, \u001b[38;5;241m2\u001b[39m, figsize\u001b[38;5;241m=\u001b[39m(\u001b[38;5;241m12\u001b[39m, \u001b[38;5;241m6\u001b[39m))\n\u001b[1;32m      4\u001b[0m sns\u001b[38;5;241m.\u001b[39mhistplot(df[df\u001b[38;5;241m.\u001b[39mtype\u001b[38;5;241m.\u001b[39meq(\u001b[38;5;124m'\u001b[39m\u001b[38;5;124mSubtitles\u001b[39m\u001b[38;5;124m'\u001b[39m)], x\u001b[38;5;241m=\u001b[39m\u001b[38;5;124m'\u001b[39m\u001b[38;5;124mcount\u001b[39m\u001b[38;5;124m'\u001b[39m, bins\u001b[38;5;241m=\u001b[39m\u001b[38;5;241m30\u001b[39m, ax\u001b[38;5;241m=\u001b[39max1, xlabel\u001b[38;5;241m=\u001b[39m\u001b[38;5;124m'\u001b[39m\u001b[38;5;124mNumber of Abusives Instances in Film\u001b[39m\u001b[38;5;124m'\u001b[39m)\n",
      "\u001b[0;31mNameError\u001b[0m: name 'full_counts_df' is not defined"
     ]
    }
   ],
   "source": [
    "df = full_counts_df[full_counts_df.classification.eq('Abusive Language')]\n",
    "\n",
    "fig, (ax1, ax2) = plt.subplots(1, 2, figsize=(12, 6))\n",
    "sns.histplot(df[df.type.eq('Subtitles')], x='count', bins=30, ax=ax1, xlabel='Number of Abusives Instances in Film')\n",
    "# plt.xlabel('Number of Abusives Instances in Film')\n",
    "sns.histplot(df[df.type.eq('Transcripts')], x='count', bins=30, ax=ax2)\n",
    "# plt.xlabel('Number of Abusives Instances in Film')"
   ]
  },
  {
   "cell_type": "code",
   "execution_count": 162,
   "id": "48611fe6",
   "metadata": {},
   "outputs": [
    {
     "data": {
      "text/plain": [
       "sens_class_label\n",
       "not-sensitive    1490\n",
       "sex                28\n",
       "conflictual        15\n",
       "drugs              13\n",
       "profanity           8\n",
       "selfharm            4\n",
       "Name: count, dtype: int64"
      ]
     },
     "execution_count": 162,
     "metadata": {},
     "output_type": "execute_result"
    }
   ],
   "source": [
    "filtered_subs_df[filtered_subs_df.movie.eq('Annie Hall')].sens_class_label.value_counts()"
   ]
  },
  {
   "cell_type": "code",
   "execution_count": 160,
   "id": "0648508d",
   "metadata": {},
   "outputs": [
    {
     "data": {
      "text/plain": [
       "sens_class_label\n",
       "not-sensitive    208\n",
       "sex                1\n",
       "Name: count, dtype: int64"
      ]
     },
     "execution_count": 160,
     "metadata": {},
     "output_type": "execute_result"
    }
   ],
   "source": [
    "red_trans_df[red_trans_df.movie_name.eq('Annie Hall')].sens_class_label.value_counts()"
   ]
  },
  {
   "cell_type": "code",
   "execution_count": 163,
   "id": "ae1d789d",
   "metadata": {},
   "outputs": [
    {
     "data": {
      "text/plain": [
       "hate_class\n",
       "Non-Abusive Language    1543\n",
       "Abusive Language          15\n",
       "Name: count, dtype: int64"
      ]
     },
     "execution_count": 163,
     "metadata": {},
     "output_type": "execute_result"
    }
   ],
   "source": [
    "filtered_subs_df[filtered_subs_df.movie.eq('Annie Hall')].hate_class.value_counts()"
   ]
  },
  {
   "cell_type": "code",
   "execution_count": 172,
   "id": "72855f78",
   "metadata": {},
   "outputs": [
    {
     "data": {
      "text/plain": [
       "[' Copywrites something on a scrap of paper and hands it back.',\n",
       " ' I always felt he was essentially a technical filmmaker. And he takes out a newspaper.',\n",
       " ' on an indoor tennis court. Two women wait. Alvie and Rob join them.',\n",
       " ' putting his arm around her.']"
      ]
     },
     "execution_count": 172,
     "metadata": {},
     "output_type": "execute_result"
    }
   ],
   "source": [
    "red_trans_df[red_trans_df.movie_name.eq('Annie Hall') & red_trans_df.hate_class.eq('Abusive Language')]['text'].to_list()"
   ]
  },
  {
   "cell_type": "code",
   "execution_count": 175,
   "id": "411f4b35",
   "metadata": {},
   "outputs": [
    {
     "data": {
      "text/plain": [
       "4091     my jaw now. Massaging himself around the mouth.\n",
       "Name: text, dtype: object"
      ]
     },
     "execution_count": 175,
     "metadata": {},
     "output_type": "execute_result"
    }
   ],
   "source": [
    "red_trans_df[red_trans_df.movie_name.eq('Annie Hall') & red_trans_df.sens_class_label.ne('not-sensitive')]['text']"
   ]
  }
 ],
 "metadata": {
  "kernelspec": {
   "display_name": "thesis",
   "language": "python",
   "name": "thesis"
  },
  "language_info": {
   "codemirror_mode": {
    "name": "ipython",
    "version": 3
   },
   "file_extension": ".py",
   "mimetype": "text/x-python",
   "name": "python",
   "nbconvert_exporter": "python",
   "pygments_lexer": "ipython3",
   "version": "3.11.10"
  }
 },
 "nbformat": 4,
 "nbformat_minor": 5
}
